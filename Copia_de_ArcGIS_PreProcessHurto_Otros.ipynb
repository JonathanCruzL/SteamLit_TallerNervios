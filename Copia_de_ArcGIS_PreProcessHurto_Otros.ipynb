{
  "nbformat": 4,
  "nbformat_minor": 0,
  "metadata": {
    "colab": {
      "provenance": [],
      "collapsed_sections": [
        "BjS4oXB1nebC",
        "bVpunxU33uxC",
        "35XzXP76Pfls",
        "bEKU_xZeRLsj"
      ]
    },
    "kernelspec": {
      "name": "python3",
      "display_name": "Python 3"
    },
    "language_info": {
      "name": "python"
    }
  },
  "cells": [
    {
      "cell_type": "code",
      "source": [],
      "metadata": {
        "id": "SzTY9hDq9Gcr"
      },
      "execution_count": null,
      "outputs": []
    },
    {
      "cell_type": "markdown",
      "source": [
        "### Funciones"
      ],
      "metadata": {
        "id": "-5lFGtoZTlkv"
      }
    },
    {
      "cell_type": "code",
      "source": [
        "def str_to_date(string):\n",
        "  from datetime import datetime\n",
        "  date = datetime.strptime(string[:-9], '%Y-%m-%d')  # Se toma únicamente las posiciones dd/mm/yyyy\n",
        "  return date\n",
        "\n",
        "def str_to_hour(string):\n",
        "  from datetime import datetime\n",
        "  date = datetime.strptime(string, '%Y-%m-%d %H:%M:%S')\n",
        "  return date\n",
        "\n",
        "def getHour(string):\n",
        "  return int(string[:2])\n",
        "\n",
        "def getHour_2(hora_hechos):\n",
        "  hora = float(hora_hechos.hour)\n",
        "  return hora\n",
        "\n",
        "def getYear(timestamp):\n",
        "  return int(timestamp.year)\n",
        "\n",
        "def getMonth(timestamp):\n",
        "  return timestamp.month\n",
        "\n",
        "def getDay(timestamp):\n",
        "  return timestamp.day\n",
        "\n",
        "def getWeek(timestamp):\n",
        "  return timestamp.week\n",
        "\n",
        "def getWeek_Day_Name(timestamp):\n",
        "  dias = ['LUNES', 'MARTES', 'MIÉRCOLES', 'JUEVES', 'VIERNES', 'SÁBADO', 'DOMINGO']\n",
        "  return dias[timestamp.weekday()]\n",
        "\n",
        "def get_semana_total(df_):\n",
        "  semana_total_ = []\n",
        "\n",
        "  for index,fecha in enumerate(df_.fecha_hecho):\n",
        "    año = str(fecha.year)\n",
        "    semana = str(fecha.week)\n",
        "    cadena = str(año+'_'+semana)\n",
        "\n",
        "    semana_total_.append(cadena)\n",
        "    \n",
        "  return semana_total_\n",
        "\n",
        "def str_comma_to_float(string):\n",
        "  string = str(string).replace(',','.')\n",
        "  return float(string)\n",
        "\n",
        "def fix_coordinates(string):\n",
        "  return float(string[:-1])\n",
        "\n",
        "def rango_edades(edad):\n",
        "  if  0 <= edad <= 14:\n",
        "    grupo_edad = 0\n",
        "  elif 15 <= edad <= 18:\n",
        "    grupo_edad = 1\n",
        "  elif edad >= 19:\n",
        "    grupo_edad = 2\n",
        "  return grupo_edad\n",
        "\n",
        "def fix_comuna_barrio(point,geojson,codigos=['codcom']):\n",
        "  point = Point(point)\n",
        "  for poly in geojson['features']:\n",
        "    polygon = shape(poly['geometry'])\n",
        "    if point.within(polygon):\n",
        "      r_tuple = tuple([str(poly['properties'][codigo]) for codigo in codigos])\n",
        "      return r_tuple\n",
        "  return ('RURAL',)*len(codigos)\n",
        "\n",
        "def comuna_id(string):\n",
        "  if string == 'RURAL':\n",
        "    ID = ''\n",
        "  else:\n",
        "    ID = int(string)\n",
        "  return ID\n",
        "\n",
        "def outside_drop(geo_pe, df):\n",
        "  afuera = []\n",
        "  for i in tqdm(range(len(df))):\n",
        "    df.x = df.x.apply(float)\n",
        "    df.y = df.y.apply(float)\n",
        "    point = Point(df[['x','y']].iloc[i])\n",
        "    adentro = False\n",
        "    for poly in geo_pe['features']:\n",
        "      polygon = shape(poly['geometry'])\n",
        "      adentro += point.within(polygon)\n",
        "\n",
        "    if not adentro:\n",
        "      afuera.append(i)\n",
        "  df = df.drop(afuera)\n",
        "  print(len(afuera))\n",
        "  return df\n",
        "\n",
        "def str_to_bool(string):\n",
        "  if 'SI' in string:\n",
        "    out = 1\n",
        "  else:\n",
        "    out = 0\n",
        "  return out\n",
        "\n",
        "def bool_to_string(num):\n",
        "  if num == 0:\n",
        "    string = 'NO'\n",
        "  else:\n",
        "    string = 'SI'\n",
        "  return string\n",
        "\n",
        "def get_index(casper, caso):\n",
        "  for indx,cas in enumerate(casper):\n",
        "    if caso in cas:\n",
        "      return indx\n",
        "\n",
        "def get_ult_act_cas(df_,no_homicidio=True):\n",
        "  new_cas = []   # Se van almacenando los caso_id que aparecen por primera vez\n",
        "  cas_per = ['']   # Se almacena caso_id con todos los pers_id que le correspondan\n",
        "  indx_to_drop = []\n",
        "\n",
        "  for i in tqdm(reversed(range(len(df_)))):               # Se recorre el dataframe en reversa y se toman estas variables en cada fila\n",
        "    caso_id_ = 'c'+str(df_.iloc[i]['caso_id'])\n",
        "    if no_homicidio:\n",
        "      pers_id_vin = 'p'+str(df_.iloc[i]['pers_id'])+'_'+str(df_.iloc[i]['tipo_vinculacion'])\n",
        "    \n",
        "    if i != np.max(range(len(df_))):                             # Aquí se cerrará elregistro más actual de cada caso\n",
        "      cas_ant = 'c'+str(df_.iloc[i+1]['caso_id'])                # caso_id analizado justo antes\n",
        "      casperant = cas_per[get_index(cas_per,cas_ant)]            # caso+personas que fue creado para el caso_id analizado justo antes\n",
        "      if (caso_id_ != cas_ant) and ('_FIN' not in casperant):    # caso_id actual vs caso_id analizado justo antes (si son diferentes hay cambio de caso)\n",
        "        cas_per[get_index(cas_per,cas_ant)] = casperant+'_FIN'   # Si no se ha cerrado el registro, se cierra el último caso registrado\n",
        "\n",
        "    if caso_id_ not in new_cas:                  # Si el caso_id no está en new_cas es porque es un nuevo caso\n",
        "      new_cas.append(caso_id_)                   # Se registra el nuevo caso\n",
        "      if no_homicidio:\n",
        "        cas_per.append(caso_id_+'_'+pers_id_vin)   # Se abre el caso + sus personas vinculadas\n",
        "      else:\n",
        "        cas_per.append(caso_id_)\n",
        "    else:\n",
        "      if '_FIN' in cas_per[get_index(cas_per,caso_id_)]:   # Si el caso sí está, se verifica si ya se terminó de registrar.  Si el caso ya se registró\n",
        "        indx_to_drop.append(i)                             # por completo entonces esta instancia es redundante/antigua y se eliminará al final\n",
        "      else:\n",
        "        if no_homicidio:\n",
        "          if pers_id_vin not in cas_per[get_index(cas_per,caso_id_)]:\n",
        "            cas_per[get_index(cas_per,caso_id_)] = cas_per[get_index(cas_per,caso_id_)]+'_'+pers_id_vin\n",
        "          else:                                    # Si ya fue registrada una persona con un tipo de vinculación, no se debería repetir dicha info\n",
        "            indx_to_drop.append(i)                 # ser victima/indiciado/denunciante dos veces no debería ser correcto (pj: podría duplicarse la modalidad)\n",
        "        else:\n",
        "          indx_to_drop.append(i)\n",
        "\n",
        "  \n",
        "  df__ = df_.drop(indx_to_drop, inplace=False)             # Borrar todos los index que son duplicados antiguos\n",
        "  df__.reset_index(drop=True, inplace=True)\n",
        "\n",
        "  return df__,cas_per,new_cas\n",
        "\n",
        "def save_interlost(df_original,df_depurado):\n",
        "  '''\n",
        "  Se genera un dataframe que guarda todos los intervinientes perdidos en un proceso\n",
        "  de depuración. En caso de que no se reporten intervinientes en la última \n",
        "  actualización del caso_id, éstos serán removidos.\n",
        "\n",
        "  Inputs.\n",
        "  df_original: Dataframe que se depuró para mantener sólo la última actualización del caso\n",
        "  df_depurado: Dataframe depurado con únicamente la última actualización del caso\n",
        "\n",
        "  Output:\n",
        "  df: Dataframe que contiene los intervinientes eliminados\n",
        "  '''\n",
        "  per = []\n",
        "  vinc = []\n",
        "  pervin = []\n",
        "\n",
        "  for pers_i in np.unique(df_original.pers_id):\n",
        "    if pers_i not in np.unique(df_depurado.pers_id):\n",
        "      per.append(pers_i)\n",
        "      vin = np.unique(df_original.loc[(df_original['pers_id']==pers_i)].tipo_vinculacion)[0]\n",
        "      vinc.append(vin)\n",
        "      pervin.append(str(pers_i)+'_'+str(vin))\n",
        "  \n",
        "  datos = {'pers_id': per, 'tipo_vinculacion': vinc, 'pers_id_vinculacion': pervin}\n",
        "  df = pd.DataFrame(datos)\n",
        "  return df"
      ],
      "metadata": {
        "id": "2zEi6TozTujD"
      },
      "execution_count": 98,
      "outputs": []
    },
    {
      "cell_type": "markdown",
      "source": [
        "# Procesamiento\n",
        "```\n",
        "Se hará el procesamiento para:\n",
        "1) Eliminar reportes antiguos de un mismo caso, es decir, mantener la última información del caso.\n",
        "\n",
        "NOTA: En caso de que no se reporten intervinientes en la última actualización del caso_id, éstos serán removidos.\n",
        "```\n",
        "\n"
      ],
      "metadata": {
        "id": "1GvaYkubLDe5"
      }
    },
    {
      "cell_type": "code",
      "source": [
        "from google.colab import drive\n",
        "drive.mount('/content/drive') "
      ],
      "metadata": {
        "colab": {
          "base_uri": "https://localhost:8080/"
        },
        "id": "l0Jb5EexLWGv",
        "outputId": "0f1c63bd-4d43-4628-b097-ba2945a1cded"
      },
      "execution_count": 4,
      "outputs": [
        {
          "output_type": "stream",
          "name": "stdout",
          "text": [
            "Mounted at /content/drive\n"
          ]
        }
      ]
    },
    {
      "cell_type": "code",
      "source": [
        "import pandas as pd\n",
        "from glob import glob\n",
        "import numpy as np\n",
        "\n",
        "from shapely.geometry import Point\n",
        "from shapely.geometry import shape\n",
        "from tqdm import tqdm\n",
        "import json"
      ],
      "metadata": {
        "id": "lpX3AtimEzQh"
      },
      "execution_count": 5,
      "outputs": []
    },
    {
      "cell_type": "code",
      "source": [
        "# df_fis = pd.read_excel('/content/drive/MyDrive/MyArcGisFolder/DELITOS_INF_FISCALIA_ACTUALIZADO_SOMECHANGE.xlsx') # Sin hur/hom/algunos fuera de pereira 151k +f\n",
        "# df_fisdepu = pd.read_excel('/content/drive/MyDrive/MyArcGisFolder/datos_FIS_UltActCaso.xlsx')         # Último registro con COM_BARR_CUA y de 2020+ - 27.8k +f\n",
        "\n",
        "# df_hur = pd.read_excel('/content/drive/MyDrive/MyArcGisFolder/HURTO_CON_INTER_PROCESSED_AREAS.xlsx')  # Hurto original con 166k +filas\n",
        "# df_hurdepu = pd.read_excel('/content/drive/MyDrive/MyArcGisFolder/HURTO_CON_INTER_UltActCaso.xlsx')   # Hurtos solo última actualizacion 22.8k +filas\n",
        "\n",
        "df_hom = pd.read_excel('/content/drive/MyDrive/MyArcGisFolder/HOMICIDIOS.xlsx')                         # Homicidios original con 1460 filas\n",
        "df_homedepu = pd.read_excel('/content/drive/MyDrive/MyArcGisFolder/HOMICIDIOS_UltActCaso.xlsx')         # Homicidios solo última actualizacion con 327 filas"
      ],
      "metadata": {
        "id": "j8qMnVXRc4wl"
      },
      "execution_count": 106,
      "outputs": []
    },
    {
      "cell_type": "code",
      "source": [
        "# df_homdepu,cas_per,new_cas = get_ult_act_cas(df_hom, no_homicidio=False)\n",
        "# df_homdepu"
      ],
      "metadata": {
        "id": "9DAHQqfzbh8_"
      },
      "execution_count": null,
      "outputs": []
    },
    {
      "cell_type": "code",
      "source": [
        "len(df_fis), len(df_fisdepu), len(df_hur), len(df_hurdepu), len(df_hom), len(df_homdepu)"
      ],
      "metadata": {
        "colab": {
          "base_uri": "https://localhost:8080/"
        },
        "id": "4UtuhReLmt_D",
        "outputId": "1c00b5ec-1a1c-434c-93ff-5bdb63605bb2"
      },
      "execution_count": 107,
      "outputs": [
        {
          "output_type": "execute_result",
          "data": {
            "text/plain": [
              "(144126, 27806, 166843, 22892, 1460, 327)"
            ]
          },
          "metadata": {},
          "execution_count": 107
        }
      ]
    },
    {
      "cell_type": "code",
      "source": [
        "len(np.unique(df_fis.caso_id)), len(np.unique(df_fisdepu.caso_id))"
      ],
      "metadata": {
        "colab": {
          "base_uri": "https://localhost:8080/"
        },
        "id": "2edLm-IBrvLj",
        "outputId": "f1cde402-3eaa-450b-92d2-b120b21b8bc5"
      },
      "execution_count": 108,
      "outputs": [
        {
          "output_type": "execute_result",
          "data": {
            "text/plain": [
              "(10593, 10592)"
            ]
          },
          "metadata": {},
          "execution_count": 108
        }
      ]
    },
    {
      "cell_type": "code",
      "source": [
        "len(np.unique(df_hur.caso_id)), len(np.unique(df_hurdepu.caso_id))"
      ],
      "metadata": {
        "colab": {
          "base_uri": "https://localhost:8080/"
        },
        "id": "XdE4EF0thIIL",
        "outputId": "8205204e-2fb5-4cb2-caa0-0b58786c7a4a"
      },
      "execution_count": 109,
      "outputs": [
        {
          "output_type": "execute_result",
          "data": {
            "text/plain": [
              "(12258, 12258)"
            ]
          },
          "metadata": {},
          "execution_count": 109
        }
      ]
    },
    {
      "cell_type": "code",
      "source": [
        "len(np.unique(df_hom.caso_id)), len(np.unique(df_homdepu.caso_id))"
      ],
      "metadata": {
        "colab": {
          "base_uri": "https://localhost:8080/"
        },
        "id": "RNziCC68O_lP",
        "outputId": "7555d1cd-3623-4c85-b166-0fa612b0d2b6"
      },
      "execution_count": 110,
      "outputs": [
        {
          "output_type": "execute_result",
          "data": {
            "text/plain": [
              "(327, 327)"
            ]
          },
          "metadata": {},
          "execution_count": 110
        }
      ]
    },
    {
      "cell_type": "code",
      "source": [
        "# ind = df_fis.loc[(df_fis['año_hecho']<2020)].index\n",
        "\n",
        "# df_fis.drop(ind,inplace=True)             # Borrar todos los index que son duplicados antiguos\n",
        "# df_fis.reset_index(drop=True,inplace=True)"
      ],
      "metadata": {
        "id": "b_bFwTU29bET"
      },
      "execution_count": 12,
      "outputs": []
    },
    {
      "cell_type": "code",
      "source": [
        "# df.drop(['zona_hechos','barrio_hechos'], axis = 'columns', inplace=True)"
      ],
      "metadata": {
        "id": "KQW8K-Bo-9N3"
      },
      "execution_count": null,
      "outputs": []
    },
    {
      "cell_type": "code",
      "source": [
        "for caso_id in np.unique(df_hur.caso_id):\n",
        "  if caso_id not in np.unique(df_hurdepu.caso_id):\n",
        "    print(caso_id)"
      ],
      "metadata": {
        "id": "FdkBWjlPq3xJ"
      },
      "execution_count": null,
      "outputs": []
    },
    {
      "cell_type": "code",
      "source": [
        "df = save_interlost(df_hur,df_hurdepu)"
      ],
      "metadata": {
        "id": "JaOzoSHiAQ1J"
      },
      "execution_count": 43,
      "outputs": []
    },
    {
      "cell_type": "code",
      "source": [
        "len(df)"
      ],
      "metadata": {
        "colab": {
          "base_uri": "https://localhost:8080/"
        },
        "id": "XkwPGnUFGiJ9",
        "outputId": "12b54da7-90a3-406d-e606-f6a7c8049e06"
      },
      "execution_count": 44,
      "outputs": [
        {
          "output_type": "execute_result",
          "data": {
            "text/plain": [
              "1541"
            ]
          },
          "metadata": {},
          "execution_count": 44
        }
      ]
    },
    {
      "cell_type": "code",
      "source": [
        "df.tipo_vinculacion.value_counts()"
      ],
      "metadata": {
        "colab": {
          "base_uri": "https://localhost:8080/"
        },
        "id": "ZqbjkqxOBmwC",
        "outputId": "95682133-ece8-471b-ed10-471cb8596971"
      },
      "execution_count": 45,
      "outputs": [
        {
          "output_type": "execute_result",
          "data": {
            "text/plain": [
              "DENUNCIANTE    1085\n",
              "VICTIMA         274\n",
              "INDICIADO       182\n",
              "Name: tipo_vinculacion, dtype: int64"
            ]
          },
          "metadata": {},
          "execution_count": 45
        }
      ]
    },
    {
      "cell_type": "code",
      "source": [
        "for año in [2020,2021,2022,2023]:\n",
        "  print(año)\n",
        "  print(len(np.unique(df.loc[(df['año_hecho']== año)].caso_id)))\n",
        "  print(len(np.unique(df_depu.loc[(df_depu['año_hecho']== año)].caso_id)))"
      ],
      "metadata": {
        "id": "Ds84AkyxqlHd"
      },
      "execution_count": null,
      "outputs": []
    },
    {
      "cell_type": "code",
      "source": [
        "for año in [2020,2021,2022,2023]:\n",
        "  print(año)\n",
        "  for caso_id in np.unique(df.loc[(df['año_hecho']== año)].caso_id):\n",
        "    if caso_id not in np.unique(df_depu.loc[(df_depu['año_hecho']== año)].caso_id):\n",
        "      print(caso_id)\n",
        "      print(df.loc[(df['caso_id']==caso_id)].fecha_hecho)\n",
        "      print(df_depu.loc[(df_depu['caso_id']==caso_id)].fecha_hecho)\n",
        "      print('=='*15)"
      ],
      "metadata": {
        "id": "FP9BAqyerqGZ"
      },
      "execution_count": null,
      "outputs": []
    },
    {
      "cell_type": "code",
      "source": [
        "for año in [2020,2021,2022,2023]:\n",
        "  print(año)\n",
        "  for pers_id in np.unique(df.loc[(df['año_hecho']== año) & (df['tipo_vinculacion']== 'VICTIMA')].pers_id):\n",
        "    if pers_id not in np.unique(df_depu.loc[(df_depu['año_hecho']== año) & (df_depu['tipo_vinculacion']== 'VICTIMA')].pers_id):\n",
        "      print(pers_id)\n",
        "      print(df.loc[(df['año_hecho']== año) & (df['pers_id']==pers_id) & (df['tipo_vinculacion']== 'VICTIMA')].fecha_hecho)\n",
        "      print(df_depu.loc[(df_depu['año_hecho']== año) & (df_depu['pers_id']==pers_id) & (df_depu['tipo_vinculacion']== 'VICTIMA')].fecha_hecho)\n",
        "      print('=='*15)"
      ],
      "metadata": {
        "id": "tjUOQpvzkxvT"
      },
      "execution_count": null,
      "outputs": []
    },
    {
      "cell_type": "code",
      "source": [
        "df.fecha_hecho"
      ],
      "metadata": {
        "colab": {
          "base_uri": "https://localhost:8080/"
        },
        "id": "7W-aiV3B2xnh",
        "outputId": "25533b3a-b758-4f95-a5d7-d420d689eb2e"
      },
      "execution_count": null,
      "outputs": [
        {
          "output_type": "execute_result",
          "data": {
            "text/plain": [
              "0       2020-10-25\n",
              "1       2020-10-25\n",
              "2       2021-11-16\n",
              "3       2021-11-16\n",
              "4       2021-11-16\n",
              "           ...    \n",
              "29236   2022-11-25\n",
              "29237   2022-11-25\n",
              "29238   2022-11-25\n",
              "29239   2023-01-07\n",
              "29240   2023-01-07\n",
              "Name: fecha_hecho, Length: 29241, dtype: datetime64[ns]"
            ]
          },
          "metadata": {},
          "execution_count": 7
        }
      ]
    },
    {
      "cell_type": "code",
      "source": [
        "df.fecha_hecho.apply(type)"
      ],
      "metadata": {
        "colab": {
          "base_uri": "https://localhost:8080/"
        },
        "id": "oqX9kwFDzNoN",
        "outputId": "cc7b4ea4-83bf-4279-b4a7-c5cd12c9aebf"
      },
      "execution_count": null,
      "outputs": [
        {
          "output_type": "execute_result",
          "data": {
            "text/plain": [
              "0        <class 'pandas._libs.tslibs.timestamps.Timesta...\n",
              "1        <class 'pandas._libs.tslibs.timestamps.Timesta...\n",
              "2        <class 'pandas._libs.tslibs.timestamps.Timesta...\n",
              "3        <class 'pandas._libs.tslibs.timestamps.Timesta...\n",
              "4        <class 'pandas._libs.tslibs.timestamps.Timesta...\n",
              "                               ...                        \n",
              "29236    <class 'pandas._libs.tslibs.timestamps.Timesta...\n",
              "29237    <class 'pandas._libs.tslibs.timestamps.Timesta...\n",
              "29238    <class 'pandas._libs.tslibs.timestamps.Timesta...\n",
              "29239    <class 'pandas._libs.tslibs.timestamps.Timesta...\n",
              "29240    <class 'pandas._libs.tslibs.timestamps.Timesta...\n",
              "Name: fecha_hecho, Length: 29241, dtype: object"
            ]
          },
          "metadata": {},
          "execution_count": 8
        }
      ]
    },
    {
      "cell_type": "code",
      "source": [
        "df_fis_depu['hora_hecho'] = df_fis_depu.hora_hecho.apply(str_to_hour)"
      ],
      "metadata": {
        "id": "klWw80B0yzkm"
      },
      "execution_count": null,
      "outputs": []
    },
    {
      "cell_type": "code",
      "source": [
        "df_fis_depu['mes_hecho'] = df_fis_depu.fecha_hecho.apply(getMonth)\n",
        "df_fis_depu['dia_hecho'] = df_fis_depu.fecha_hecho.apply(getDay)\n",
        "df_fis_depu['año_hecho'] = df_fis_depu.fecha_hecho.apply(getYear)\n",
        "df_fis_depu['hora_aprox_hecho'] = df_fis_depu.hora_hecho.apply(getHour_2)\n",
        "df_fis_depu['semana_hecho'] = df_fis_depu.fecha_hecho.apply(getWeek)\n",
        "df_fis_depu['dia_mes_hecho'] = df_fis_depu.fecha_hecho.apply(getDay)\n",
        "df_fis_depu['dia_semana_hecho'] = df_fis_depu.fecha_hecho.apply(getWeek_Day_Name)\n",
        "df_fis_depu['semana_total'] = get_semana_total(df_fis_depu)\n",
        "df_fis_depu['x'] = df_fis_depu.longitud_hechos.apply(str_comma_to_float)\n",
        "df_fis_depu['y'] = df_fis_depu.latitud_hechos.apply(str_comma_to_float)"
      ],
      "metadata": {
        "id": "v5oyOZ1YVoVl"
      },
      "execution_count": null,
      "outputs": []
    },
    {
      "cell_type": "code",
      "source": [
        "df.info()"
      ],
      "metadata": {
        "colab": {
          "base_uri": "https://localhost:8080/"
        },
        "id": "fN8BrKxuL4aZ",
        "outputId": "431b1e1d-c93d-4fca-aa8d-5fa3591849ab"
      },
      "execution_count": null,
      "outputs": [
        {
          "output_type": "stream",
          "name": "stdout",
          "text": [
            "<class 'pandas.core.frame.DataFrame'>\n",
            "RangeIndex: 29241 entries, 0 to 29240\n",
            "Data columns (total 88 columns):\n",
            " #   Column                    Non-Null Count  Dtype         \n",
            "---  ------                    --------------  -----         \n",
            " 0   caso_id                   29241 non-null  int64         \n",
            " 1   año_corrido               29241 non-null  object        \n",
            " 2   estado                    29240 non-null  object        \n",
            " 3   etapa                     29240 non-null  object        \n",
            " 4   hora_hecho                29241 non-null  datetime64[ns]\n",
            " 5   municipio_hecho           29241 non-null  object        \n",
            " 6   departamento_hecho        29241 non-null  object        \n",
            " 7   codigo_dane_mun_hechos    29241 non-null  int64         \n",
            " 8   region                    19488 non-null  object        \n",
            " 9   latitud_hechos            29241 non-null  float64       \n",
            " 10  longitud_hechos           29241 non-null  float64       \n",
            " 11  seccional_asignacion      173 non-null    object        \n",
            " 12  seccional_mapa_jud_hecho  173 non-null    object        \n",
            " 13  delito                    29241 non-null  object        \n",
            " 14  modo_delito               11322 non-null  object        \n",
            " 15  modalidad_delito          13136 non-null  object        \n",
            " 16  caracterizacion_delito    13147 non-null  object        \n",
            " 17  denuncia_linea            24183 non-null  object        \n",
            " 18  grupo                     29241 non-null  object        \n",
            " 19  grado_delito              10694 non-null  object        \n",
            " 20  ley                       29241 non-null  object        \n",
            " 21  localidad_hechos          19214 non-null  object        \n",
            " 22  barrio_hechos             9930 non-null   object        \n",
            " 23  zona_hechos               9933 non-null   object        \n",
            " 24  direccion_hechos          29241 non-null  object        \n",
            " 25  titulo                    29241 non-null  object        \n",
            " 26  capitulo                  29222 non-null  object        \n",
            " 27  fecha_entrada             29241 non-null  object        \n",
            " 28  fecha_hecho               29241 non-null  datetime64[ns]\n",
            " 29  fecha_creacion            29241 non-null  object        \n",
            " 30  seccional_hechos          29138 non-null  object        \n",
            " 31  Agrupador                 2830 non-null   object        \n",
            " 32  Categoria                 2830 non-null   object        \n",
            " 33  archivo_2020              55 non-null     object        \n",
            " 34  archivo                   29137 non-null  object        \n",
            " 35  año_hecho                 29241 non-null  int64         \n",
            " 36  año_entrada               29241 non-null  int64         \n",
            " 37  año_creacion              29241 non-null  int64         \n",
            " 38  delito_agrup              4668 non-null   object        \n",
            " 39  deli_id                   29240 non-null  float64       \n",
            " 40  tipo_vinculacion          29241 non-null  object        \n",
            " 41  pers_id                   29241 non-null  int64         \n",
            " 42  imno_id                   164 non-null    float64       \n",
            " 43  genero                    26958 non-null  object        \n",
            " 44  edad                      18553 non-null  float64       \n",
            " 45  indigena                  29241 non-null  int64         \n",
            " 46  aplica_lgbti              29241 non-null  int64         \n",
            " 47  defensor_ddhh             29241 non-null  int64         \n",
            " 48  afrodescendiente          29241 non-null  int64         \n",
            " 49  grupo_etario              29241 non-null  object        \n",
            " 50  nna                       29241 non-null  int64         \n",
            " 51  adulto_mayor              29241 non-null  int64         \n",
            " 52  mujer                     29241 non-null  int64         \n",
            " 53  subcategoria_fp           68 non-null     object        \n",
            " 54  funcionario               29241 non-null  object        \n",
            " 55  exfuncionario             29241 non-null  object        \n",
            " 56  cuenta_victima            10660 non-null  float64       \n",
            " 57  tipo_delito               0 non-null      float64       \n",
            " 58  id_ult_actuacion_caso     23240 non-null  float64       \n",
            " 59  h_violento                0 non-null      float64       \n",
            " 60  grupo_delito              0 non-null      float64       \n",
            " 61  rural_urbana              0 non-null      float64       \n",
            " 62  semanas_2020              33 non-null     float64       \n",
            " 63  semanas_2021              0 non-null      float64       \n",
            " 64  seccional_hechos_x        103 non-null    object        \n",
            " 65  archivo_2021              118 non-null    object        \n",
            " 66  archivo_x                 104 non-null    object        \n",
            " 67  seccional_hechos_y        103 non-null    object        \n",
            " 68  archivo_y                 104 non-null    object        \n",
            " 69  nunc                      1 non-null      object        \n",
            " 70  entidad_receptora         1639 non-null   object        \n",
            " 71  unidad_receptora          295 non-null    object        \n",
            " 72  sale                      0 non-null      float64       \n",
            " 73  mes_hecho                 29241 non-null  int64         \n",
            " 74  dia_hecho                 29241 non-null  int64         \n",
            " 75  hora_aprox_hecho          29241 non-null  int64         \n",
            " 76  semana_hecho              29241 non-null  int64         \n",
            " 77  dia_mes_hecho             29241 non-null  int64         \n",
            " 78  dia_semana_hecho          29241 non-null  object        \n",
            " 79  ObjectId                  0 non-null      float64       \n",
            " 80  semana_total              29241 non-null  object        \n",
            " 81  x                         29241 non-null  float64       \n",
            " 82  y                         29241 non-null  float64       \n",
            " 83  ObjectId2                 29241 non-null  int64         \n",
            " 84  GlobalID                  29241 non-null  object        \n",
            " 85  VINCULACION_2             0 non-null      float64       \n",
            " 86  x2                        29241 non-null  float64       \n",
            " 87  y2                        29241 non-null  float64       \n",
            "dtypes: datetime64[ns](2), float64(20), int64(19), object(47)\n",
            "memory usage: 19.6+ MB\n"
          ]
        }
      ]
    },
    {
      "cell_type": "code",
      "source": [
        "df.hora_hecho.isnull().sum()"
      ],
      "metadata": {
        "colab": {
          "base_uri": "https://localhost:8080/"
        },
        "id": "_W6fVq19OGd7",
        "outputId": "e29d8594-e76d-4881-cf5e-922af268a81d"
      },
      "execution_count": null,
      "outputs": [
        {
          "output_type": "execute_result",
          "data": {
            "text/plain": [
              "0"
            ]
          },
          "metadata": {},
          "execution_count": 145
        }
      ]
    },
    {
      "cell_type": "code",
      "source": [
        "df.hora_hecho.apply(type)"
      ],
      "metadata": {
        "colab": {
          "base_uri": "https://localhost:8080/"
        },
        "id": "NwgQdK_eNHxy",
        "outputId": "53a72cf6-6218-47cc-b5c8-8601622d5271"
      },
      "execution_count": null,
      "outputs": [
        {
          "output_type": "execute_result",
          "data": {
            "text/plain": [
              "0        <class 'pandas._libs.tslibs.timestamps.Timesta...\n",
              "1        <class 'pandas._libs.tslibs.timestamps.Timesta...\n",
              "2        <class 'pandas._libs.tslibs.timestamps.Timesta...\n",
              "3        <class 'pandas._libs.tslibs.timestamps.Timesta...\n",
              "4        <class 'pandas._libs.tslibs.timestamps.Timesta...\n",
              "                               ...                        \n",
              "29236    <class 'pandas._libs.tslibs.timestamps.Timesta...\n",
              "29237    <class 'pandas._libs.tslibs.timestamps.Timesta...\n",
              "29238    <class 'pandas._libs.tslibs.timestamps.Timesta...\n",
              "29239    <class 'pandas._libs.tslibs.timestamps.Timesta...\n",
              "29240    <class 'pandas._libs.tslibs.timestamps.Timesta...\n",
              "Name: hora_hecho, Length: 29241, dtype: object"
            ]
          },
          "metadata": {},
          "execution_count": 12
        }
      ]
    },
    {
      "cell_type": "code",
      "source": [
        "df['mes_hecho'] = df.fecha_hecho.apply(getMonth)\n",
        "df['dia_hecho'] = df.fecha_hecho.apply(getDay)\n",
        "df['año_hecho'] = df.fecha_hecho.apply(getYear)\n",
        "df['hora_aprox_hecho'] = df.hora_hecho.apply(getHour_2)\n",
        "df['semana_hecho'] = df.fecha_hecho.apply(getWeek)\n",
        "df['dia_mes_hecho'] = df.fecha_hecho.apply(getDay)\n",
        "df['dia_semana_hecho'] = df.fecha_hecho.apply(getWeek_Day_Name)\n",
        "df['semana_total'] = get_semana_total(df)\n",
        "df['x'] = df.longitud_hechos.apply(str_comma_to_float)\n",
        "df['y'] = df.latitud_hechos.apply(str_comma_to_float)"
      ],
      "metadata": {
        "id": "l3uvXKSVMtAn"
      },
      "execution_count": null,
      "outputs": []
    },
    {
      "cell_type": "code",
      "source": [
        "len(np.unique(df.loc[(df['año_hecho']==2022)].caso_id))"
      ],
      "metadata": {
        "colab": {
          "base_uri": "https://localhost:8080/"
        },
        "id": "0kUof_eNR99x",
        "outputId": "58cc6639-4054-417d-eb18-8bb06386e83f"
      },
      "execution_count": null,
      "outputs": [
        {
          "output_type": "execute_result",
          "data": {
            "text/plain": [
              "4043"
            ]
          },
          "metadata": {},
          "execution_count": 162
        }
      ]
    },
    {
      "cell_type": "markdown",
      "source": [
        "### GENERACIÓN DE TABLAS DELITOS + INTERVINIENTES"
      ],
      "metadata": {
        "id": "BjS4oXB1nebC"
      }
    },
    {
      "cell_type": "code",
      "source": [
        "df_ref = pd.read_excel('/content/drive/MyDrive/MyArcGisFolder/Procesar x Delito/DELITOS/Processed/Semana 50_2022 - Processed/DELITOS DSX_CON_INT_ZonaPER.xlsx')"
      ],
      "metadata": {
        "id": "-0ZyUNCUwd5G"
      },
      "execution_count": null,
      "outputs": []
    },
    {
      "cell_type": "code",
      "source": [
        "ruta_inter = glob('/content/drive/MyDrive/MyArcGisFolder/Procesar x Delito/Semana 2_2023/DIRECCIÓN SECCIONAL DE RISARALDA HURTO INTERVINIENTES.xlsx')[0]\n",
        "ruta_del = glob('/content/drive/MyDrive/MyArcGisFolder/Procesar x Delito/Semana 2_2023/DIRECCIÓN SECCIONAL DE RISARALDA HURTO.xlsx')[0]"
      ],
      "metadata": {
        "id": "1krWKc5RnwKy"
      },
      "execution_count": null,
      "outputs": []
    },
    {
      "cell_type": "code",
      "source": [
        "df_del = pd.read_excel(ruta_del)\n",
        "df_inter = pd.read_excel(ruta_inter)"
      ],
      "metadata": {
        "id": "TChEDNP5V8Ta"
      },
      "execution_count": null,
      "outputs": []
    },
    {
      "cell_type": "code",
      "source": [
        "len(df_del), len(df_inter)"
      ],
      "metadata": {
        "colab": {
          "base_uri": "https://localhost:8080/"
        },
        "id": "fvT-wKTgi6sj",
        "outputId": "35c30f60-45de-4bc2-b1f7-2af88f36feb8"
      },
      "execution_count": null,
      "outputs": [
        {
          "output_type": "execute_result",
          "data": {
            "text/plain": [
              "(18444, 41299)"
            ]
          },
          "metadata": {},
          "execution_count": 769
        }
      ]
    },
    {
      "cell_type": "code",
      "source": [
        "for column in df_inter.columns:            # Buscar en qué columnas hay casos nulos o NaN, en casos como caso_id se elimina esa fila\n",
        "  if df_inter[column].isna().sum() != 0:\n",
        "    print(column, df_inter[column].isna().sum(),np.abs(np.where(df_inter[column].isna())))\n",
        "  else:\n",
        "    print(column, df_inter[column].isna().sum())"
      ],
      "metadata": {
        "colab": {
          "base_uri": "https://localhost:8080/"
        },
        "id": "l6sLr_l1SeJv",
        "outputId": "c07ec038-ddcd-486e-c8d7-6e7fcd7f8ffd"
      },
      "execution_count": null,
      "outputs": [
        {
          "output_type": "stream",
          "name": "stdout",
          "text": [
            "caso_id 0\n",
            "año_corrido 0\n",
            "delito 0\n",
            "fecha_entrada 0\n",
            "fecha_hecho 0\n",
            "seccional_hechos 0\n",
            "archivo 0\n",
            "año_hecho 0\n",
            "año_entrada 0\n",
            "grupo 0\n",
            "deli_id 0\n",
            "tipo_vinculacion 0\n",
            "pers_id 0\n",
            "genero 2326 [[   30    56    68 ... 41269 41270 41282]]\n",
            "edad 6911 [[   30    31    56 ... 41269 41270 41282]]\n",
            "indigena 0\n",
            "aplica_lgbti 0\n",
            "defensor_ddhh 0\n",
            "afrodescendiente 0\n",
            "grupo_etario 0\n",
            "nna 0\n",
            "adulto_mayor 0\n",
            "mujer 0\n",
            "subcategoria_fp 41286 [[    0     1     2 ... 41296 41297 41298]]\n",
            "funcionario 0\n",
            "exfuncionario 0\n",
            "cuenta_victima 22997 [[    0     2     4 ... 41293 41295 41297]]\n"
          ]
        }
      ]
    },
    {
      "cell_type": "code",
      "source": [
        "len(df_inter), df_inter.index"
      ],
      "metadata": {
        "colab": {
          "base_uri": "https://localhost:8080/"
        },
        "id": "rThPxM7622YN",
        "outputId": "73386f40-37d1-4efa-f0ec-3ac7881bdcf7"
      },
      "execution_count": null,
      "outputs": [
        {
          "output_type": "execute_result",
          "data": {
            "text/plain": [
              "(41299, RangeIndex(start=0, stop=41299, step=1))"
            ]
          },
          "metadata": {},
          "execution_count": 771
        }
      ]
    },
    {
      "cell_type": "code",
      "source": [
        "# df_inter.drop([1947, 1948, 1949, 1950, 1951, 1952],inplace=True)         # Borrar index donde pueda generar problema (como caso_id NaN)\n",
        "# df_inter.reset_index(drop=True,inplace=True)     "
      ],
      "metadata": {
        "id": "AA1bNeln1u5q"
      },
      "execution_count": null,
      "outputs": []
    },
    {
      "cell_type": "code",
      "source": [
        "len(df_inter), df_inter.index"
      ],
      "metadata": {
        "colab": {
          "base_uri": "https://localhost:8080/"
        },
        "id": "jAw-82KB25nk",
        "outputId": "39ef2355-7cc3-4040-cbde-d9dd02d27906"
      },
      "execution_count": null,
      "outputs": [
        {
          "output_type": "execute_result",
          "data": {
            "text/plain": [
              "(41299, RangeIndex(start=0, stop=41299, step=1))"
            ]
          },
          "metadata": {},
          "execution_count": 772
        }
      ]
    },
    {
      "cell_type": "code",
      "source": [
        "colu = []\n",
        "\n",
        "for col in df_inter.columns:        # Verificar las columnas que están repetidas en intervinientes y en hurto\n",
        "  if col in df_del.columns:       # También se verifica que los tipos de dato sean iguales para posteriormente comparar\n",
        "    print(col ,  \"-\"*10,type(df_inter[str(col)][0]), \"---- delito:\", type(df_del[str(col)][0]))\n",
        "    colu.append(col)\n",
        "colu.remove('caso_id')\n",
        "  # else:\n",
        "  #   if col not in columns_ref:\n",
        "  #     print('='*15,'NO debería existir: ', col)"
      ],
      "metadata": {
        "colab": {
          "base_uri": "https://localhost:8080/"
        },
        "id": "Emqpu_S62Ypd",
        "outputId": "11b18637-d770-49c3-dab8-d3171c6c2015"
      },
      "execution_count": null,
      "outputs": [
        {
          "output_type": "stream",
          "name": "stdout",
          "text": [
            "caso_id ---------- <class 'numpy.int64'> ---- delito: <class 'numpy.int64'>\n"
          ]
        }
      ]
    },
    {
      "cell_type": "code",
      "source": [
        "# df_del.año_hecho = df_del.año_hecho.apply(int)"
      ],
      "metadata": {
        "id": "uvAgmKtH3Qhv"
      },
      "execution_count": null,
      "outputs": []
    },
    {
      "cell_type": "code",
      "source": [
        "# for col in df_inter.columns:                    # Para todas las columnas repetidas, se compara cada posición repetida \n",
        "#   if col in df_del:                           # En caso de que sean diferentes saldrá notificación\n",
        "#     print(col)                                  # La idea es eliminar las columnas de la tabla de intervinientes verificando\n",
        "#     for i in range(len(df_inter[str(col)])):    #  que no haya casos con datos diferentes. Así, esas columnas serán traídas\n",
        "#       value_in = df_inter[str(col)].iloc[i]     #  desde la tabla de hurtos.\n",
        "#       if value_in in df_del[str(col)].to_list():\n",
        "#         indx_hur = df_del.loc[df_del[str(col)] == value_in].index[0]\n",
        "#         if str(df_inter[str(col)].iloc[i]) != str(df_del[str(col)].iloc[indx_hur]):\n",
        "#           print('Diferencia', col, str(df_inter[str(col)].iloc[i]), str(df_del[str(col)].iloc[indx_hur]))"
      ],
      "metadata": {
        "id": "gdP-BnUoaJZ7"
      },
      "execution_count": null,
      "outputs": []
    },
    {
      "cell_type": "code",
      "source": [
        "df_inter.drop(colu,axis=1, inplace=True)  # Eliminar columnas repetidas"
      ],
      "metadata": {
        "id": "km4RJgq7cqho"
      },
      "execution_count": null,
      "outputs": []
    },
    {
      "cell_type": "code",
      "source": [
        "i=0\n",
        "print(f'Delitos tiene en total {len(df_del.columns)} columnas')\n",
        "print(f'Intervinientes tiene en total {len(df_inter.columns)} columnas')\n",
        "print(f'Al final, Intervinientes quedará con {len(df_inter.columns) + len(df_del.columns)-1}')\n",
        "print(f'Hay {len([col for col in df_del.columns if col not in df_inter])} columnas que se sumarán a intervinientes (Excepto caso_id)')\n",
        "\n",
        "for col in df_del.columns:\n",
        "  if col not in df_inter:\n",
        "    df_inter[str(col)] = \"\"\n",
        "print('\\nAhora:')\n",
        "print(f'Delitos tiene en total {len(df_del.columns)} columnas')\n",
        "print(f'Intervinientes tiene en total {len(df_inter.columns)} columnas')"
      ],
      "metadata": {
        "colab": {
          "base_uri": "https://localhost:8080/"
        },
        "id": "VIvg4dAKXzjN",
        "outputId": "6060c9c1-c148-4b8e-9f1e-243a212997e1"
      },
      "execution_count": null,
      "outputs": [
        {
          "output_type": "stream",
          "name": "stdout",
          "text": [
            "Delitos tiene en total 38 columnas\n",
            "Intervinientes tiene en total 19 columnas\n",
            "Al final, Intervinientes quedará con 56\n",
            "Hay 37 columnas que se sumarán a intervinientes (Excepto caso_id)\n",
            "\n",
            "Ahora:\n",
            "Delitos tiene en total 38 columnas\n",
            "Intervinientes tiene en total 56 columnas\n"
          ]
        }
      ]
    },
    {
      "cell_type": "code",
      "source": [
        "ind_to_drop = []\n",
        "\n",
        "# def intervi_preprocess(df_hur, df_int):\n",
        "\n",
        "for i in range(len(df_inter)):\n",
        "  caso_id_inter = df_inter.caso_id.iloc[i]\n",
        "  \n",
        "  if caso_id_inter in df_del.caso_id.to_list():\n",
        "    indx_hur = df_del.loc[df_del['caso_id'] == caso_id_inter].index[0]\n",
        "    for col in df_del.columns:\n",
        "      df_inter[str(col)].iloc[i] = df_del[str(col)].iloc[indx_hur]\n",
        "  else:\n",
        "    ind_to_drop.append(i) "
      ],
      "metadata": {
        "id": "Q8uBTcrvpm9f",
        "colab": {
          "base_uri": "https://localhost:8080/"
        },
        "outputId": "5c0cf7bf-d4b9-450c-f94f-d5bf0acf337f"
      },
      "execution_count": null,
      "outputs": [
        {
          "output_type": "stream",
          "name": "stderr",
          "text": [
            "/usr/local/lib/python3.8/dist-packages/pandas/core/indexing.py:1732: SettingWithCopyWarning: \n",
            "A value is trying to be set on a copy of a slice from a DataFrame\n",
            "\n",
            "See the caveats in the documentation: https://pandas.pydata.org/pandas-docs/stable/user_guide/indexing.html#returning-a-view-versus-a-copy\n",
            "  self._setitem_single_block(indexer, value, name)\n"
          ]
        }
      ]
    },
    {
      "cell_type": "code",
      "source": [
        "print(len(ind_to_drop), ind_to_drop)"
      ],
      "metadata": {
        "colab": {
          "base_uri": "https://localhost:8080/"
        },
        "id": "-qCEmz688SCF",
        "outputId": "2b3ef13c-31a7-4bda-bb5d-5a7fdda38482"
      },
      "execution_count": null,
      "outputs": [
        {
          "output_type": "stream",
          "name": "stdout",
          "text": [
            "0 []\n"
          ]
        }
      ]
    },
    {
      "cell_type": "code",
      "source": [
        "len(df_inter), df_inter.index"
      ],
      "metadata": {
        "colab": {
          "base_uri": "https://localhost:8080/"
        },
        "id": "ZqrSR9_xXEwr",
        "outputId": "e531ce2e-0730-49e7-c1ec-8778eedf70d2"
      },
      "execution_count": null,
      "outputs": [
        {
          "output_type": "execute_result",
          "data": {
            "text/plain": [
              "(41299, RangeIndex(start=0, stop=41299, step=1))"
            ]
          },
          "metadata": {},
          "execution_count": 779
        }
      ]
    },
    {
      "cell_type": "code",
      "source": [
        "df_inter.drop(ind_to_drop,inplace=True)\n",
        "df_inter.reset_index(drop=True,inplace=True)"
      ],
      "metadata": {
        "id": "JS4ThoueDCYB"
      },
      "execution_count": null,
      "outputs": []
    },
    {
      "cell_type": "code",
      "source": [
        "len(df_inter), df_inter.index"
      ],
      "metadata": {
        "colab": {
          "base_uri": "https://localhost:8080/"
        },
        "id": "YL3ZcR-bEzFJ",
        "outputId": "47224de7-bdca-4b86-a208-df0a1aa613f5"
      },
      "execution_count": null,
      "outputs": [
        {
          "output_type": "execute_result",
          "data": {
            "text/plain": [
              "(41299, RangeIndex(start=0, stop=41299, step=1))"
            ]
          },
          "metadata": {},
          "execution_count": 781
        }
      ]
    },
    {
      "cell_type": "code",
      "source": [
        "for col in df_inter.columns:\n",
        "  try:\n",
        "    unicos = np.unique(df_inter[str(col)])\n",
        "    if len(unicos) < 15:\n",
        "      print(col, len(unicos), unicos)\n",
        "  except:\n",
        "    unicos = [0]\n"
      ],
      "metadata": {
        "colab": {
          "base_uri": "https://localhost:8080/"
        },
        "id": "VOGoWs0HjQ4f",
        "outputId": "9512f3d6-f604-4bd2-9c80-0cc2b7fe510b"
      },
      "execution_count": null,
      "outputs": [
        {
          "output_type": "stream",
          "name": "stdout",
          "text": [
            "archivo 2 ['NO' 'SI']\n",
            "tipo_vinculacion 3 ['DENUNCIANTE' 'INDICIADO' 'VICTIMA']\n",
            "indigena 2 ['NO' 'SI']\n",
            "aplica_lgbti 2 ['NO' 'SI']\n",
            "defensor_ddhh 2 ['NO' 'SI']\n",
            "afrodescendiente 2 ['NO' 'SI']\n",
            "grupo_etario 6 ['Adolescente de 14 a 17 años.' 'Adulto entre 27 y 59 años.'\n",
            " 'Adulto mayor. Personas igual o mayor a 60 años.'\n",
            " 'Joven de 18 a 26 años.' 'Niño, Niña. Población de 0 a 13 años.'\n",
            " 'SIN DATO']\n",
            "nna 2 ['NO' 'SI']\n",
            "adulto_mayor 2 ['NO' 'SI']\n",
            "mujer 2 ['NO' 'SI']\n",
            "funcionario 2 ['NO' 'SI']\n",
            "exfuncionario 1 ['NO']\n",
            "cuenta_victima 3 [ 0.  1. nan]\n",
            "año_corrido 2 ['NO' 'SI']\n",
            "caso_averiguacion 2 ['N' 'S']\n",
            "conexo 2 ['NO' 'SI']\n",
            "etapa 6 ['EJECUCIÓN DE PENAS' 'INDAGACIÓN' 'INVESTIGACIÓN' 'JUICIO' 'QUERELLABLE'\n",
            " 'TERMINACIÓN ANTICIPADA']\n",
            "municipio_hecho 14 ['APÍA' 'BALBOA' 'BELÉN DE UMBRÍA' 'DOSQUEBRADAS' 'GUÁTICA' 'LA CELIA'\n",
            " 'LA VIRGINIA' 'MARSELLA' 'MISTRATÓ' 'PEREIRA' 'PUEBLO RICO' 'QUINCHÍA'\n",
            " 'SANTA ROSA DE CABAL' 'SANTUARIO']\n",
            "departamento_hecho 1 ['Risaralda']\n",
            "codigo_dane_mun_hechos 14 [66001.0 66045.0 66075.0 66088.0 66170.0 66318.0 66383.0 66400.0 66440.0\n",
            " 66456.0 66572.0 66594.0 66682.0 66687.0]\n",
            "region 1 ['Eje Cafetero']\n",
            "tipo_delito 1 ['CONCURSO']\n",
            "grupo 1 ['HUR']\n",
            "ley 3 ['Jurisdicción Menores' 'Ley 1098' 'Ley 906']\n",
            "titulo 1 ['DELITOS CONTRA EL PATRIMONIO ECONOMICO']\n",
            "capitulo 1 ['DEL HURTO']\n",
            "seccional_hechos 1 ['DIRECCIÓN SECCIONAL DE RISARALDA']\n",
            "archivo_2022 2 ['NO' 'SI']\n",
            "año_entrada 6 [2015 2019 2020 2021 2022 2023]\n",
            "año_creacion 4 [2020 2021 2022 2023]\n"
          ]
        }
      ]
    },
    {
      "cell_type": "code",
      "source": [
        "df_inter['mes_hecho'] = df_inter.fecha_hecho.apply(getMonth)\n",
        "df_inter['dia_hecho'] = df_inter.fecha_hecho.apply(getDay)\n",
        "df_inter['hora_aprox_hecho'] = df_inter.hora_hecho.apply(getHour)\n",
        "df_inter['semana_hecho'] = df_inter.fecha_hecho.apply(getWeek)\n",
        "df_inter['dia_mes_hecho'] = df_inter.fecha_hecho.apply(getDay)\n",
        "df_inter['dia_semana_hecho'] = df_inter.fecha_hecho.apply(getWeek_Day_Name)\n",
        "df_inter['semana_total'] = get_semana_total(df_inter)\n",
        "df_inter['x'] = df_inter.longitud_hechos.apply(str_comma_to_float)\n",
        "df_inter['y'] = df_inter.latitud_hechos.apply(str_comma_to_float)\n",
        "df_inter['ObjectId2'] = [id for id in range(1, len(df_inter)+1)]"
      ],
      "metadata": {
        "id": "nPENDCqWXrz0"
      },
      "execution_count": null,
      "outputs": []
    },
    {
      "cell_type": "markdown",
      "source": [
        "### Zonas Pereira"
      ],
      "metadata": {
        "id": "wN__OKRqPq3p"
      }
    },
    {
      "cell_type": "code",
      "source": [
        "with open('/content/drive/MyDrive/MyArcGisFolder/Perímetros Pereira.geojson', \"r\") as geoFile:\n",
        "        geo_pe = json.load(geoFile)"
      ],
      "metadata": {
        "id": "ytiPxJKWUs4b"
      },
      "execution_count": null,
      "outputs": []
    },
    {
      "cell_type": "code",
      "source": [
        "df = outside_drop(geo_pe, df)"
      ],
      "metadata": {
        "colab": {
          "base_uri": "https://localhost:8080/"
        },
        "id": "Xz5BKqrKQUWG",
        "outputId": "05087a32-9831-4b62-e67c-0f29f1ada4e3"
      },
      "execution_count": null,
      "outputs": [
        {
          "output_type": "stream",
          "name": "stdout",
          "text": [
            "1120\n"
          ]
        }
      ]
    },
    {
      "cell_type": "code",
      "source": [
        "df.reset_index(drop=True, inplace=True)"
      ],
      "metadata": {
        "id": "bx8fngwRgx68"
      },
      "execution_count": null,
      "outputs": []
    },
    {
      "cell_type": "code",
      "source": [
        "len(df) , df.index"
      ],
      "metadata": {
        "colab": {
          "base_uri": "https://localhost:8080/"
        },
        "id": "RtcVBf8zhY80",
        "outputId": "26d64df2-abb3-4915-a75a-9da20d52f1e6"
      },
      "execution_count": null,
      "outputs": [
        {
          "output_type": "execute_result",
          "data": {
            "text/plain": [
              "(29453, RangeIndex(start=0, stop=29453, step=1))"
            ]
          },
          "metadata": {},
          "execution_count": 104
        }
      ]
    },
    {
      "cell_type": "markdown",
      "source": [
        "### dia_semana_hecho\n",
        "```\n",
        "'LUNES':0\n",
        "'MARTES':1\n",
        "'MIÉRCOLES':2\n",
        "'JUEVES':3\n",
        "'VIERNES':4\n",
        "'SÁBADO':5\n",
        "'DOMINGO':6\n",
        "```"
      ],
      "metadata": {
        "id": "bVpunxU33uxC"
      }
    },
    {
      "cell_type": "code",
      "source": [
        "dias = {'LUNES':0, 'MARTES':1, 'MIÉRCOLES':2, 'JUEVES':3, 'VIERNES':4, 'SÁBADO':5, 'DOMINGO':6}"
      ],
      "metadata": {
        "id": "o6gQe1Em3wkL"
      },
      "execution_count": null,
      "outputs": []
    },
    {
      "cell_type": "code",
      "source": [
        "for index,dia in enumerate(df_inter.dia_semana_hecho):\n",
        "  df_inter.dia_semana_hecho[index] = dias[dia]"
      ],
      "metadata": {
        "colab": {
          "base_uri": "https://localhost:8080/"
        },
        "id": "O9bfL62b3_fb",
        "outputId": "48cebf31-1323-433a-fa46-8cefdddd90fb"
      },
      "execution_count": null,
      "outputs": [
        {
          "output_type": "stream",
          "name": "stderr",
          "text": [
            "<ipython-input-787-67b4bc0401e5>:2: SettingWithCopyWarning: \n",
            "A value is trying to be set on a copy of a slice from a DataFrame\n",
            "\n",
            "See the caveats in the documentation: https://pandas.pydata.org/pandas-docs/stable/user_guide/indexing.html#returning-a-view-versus-a-copy\n",
            "  df_inter.dia_semana_hecho[index] = dias[dia]\n"
          ]
        }
      ]
    },
    {
      "cell_type": "code",
      "source": [
        "np.unique(df_inter.dia_semana_hecho)"
      ],
      "metadata": {
        "colab": {
          "base_uri": "https://localhost:8080/"
        },
        "id": "EPE6w8m84Ccd",
        "outputId": "b49724fc-9cba-42cb-c20c-bc2babc1b2c5"
      },
      "execution_count": null,
      "outputs": [
        {
          "output_type": "execute_result",
          "data": {
            "text/plain": [
              "array([0, 1, 2, 3, 4, 5, 6], dtype=object)"
            ]
          },
          "metadata": {},
          "execution_count": 788
        }
      ]
    },
    {
      "cell_type": "markdown",
      "source": [
        "### Pasar de str a bool \n",
        "adulto_mayor - mujer - indigena - aplica_lgbti - defensor_ddhh - afrodescendiente - nna "
      ],
      "metadata": {
        "id": "35XzXP76Pfls"
      }
    },
    {
      "cell_type": "code",
      "source": [
        "for col in ['adulto_mayor', 'mujer', 'indigena', 'aplica_lgbti', 'defensor_ddhh', 'afrodescendiente', 'nna']:\n",
        "  df_inter[col] = df_inter[col].apply(str_to_bool)"
      ],
      "metadata": {
        "id": "snKuDVJjWeyS"
      },
      "execution_count": null,
      "outputs": []
    },
    {
      "cell_type": "code",
      "source": [
        "np.unique(df_inter.indigena)"
      ],
      "metadata": {
        "colab": {
          "base_uri": "https://localhost:8080/"
        },
        "id": "PuQdqvaZP1Cb",
        "outputId": "852d8dee-a419-41f5-f97a-6eb9a36f28e6"
      },
      "execution_count": null,
      "outputs": [
        {
          "output_type": "execute_result",
          "data": {
            "text/plain": [
              "array([0, 1])"
            ]
          },
          "metadata": {},
          "execution_count": 790
        }
      ]
    },
    {
      "cell_type": "markdown",
      "source": [
        "### GUARDAR"
      ],
      "metadata": {
        "id": "eFL7NqgIFGOe"
      }
    },
    {
      "cell_type": "code",
      "source": [
        "Datos_FISC_ARcg = ['caso_id', 'año_corrido', 'estado', 'etapa', 'hora_hecho', 'municipio_hecho', 'departamento_hecho',\n",
        "                   'codigo_dane_mun_hechos', 'region', 'latitud_hechos', 'longitud_hechos', 'seccional_asignacion', \n",
        "                   'seccional_mapa_jud_hecho', 'delito', 'modo_delito', 'modalidad_delito', 'caracterizacion_delito',\n",
        "                   'denuncia_linea', 'grupo', 'grado_delito', 'ley', 'localidad_hechos', 'barrio_hechos', 'zona_hechos',\n",
        "                   'direccion_hechos', 'titulo', 'capitulo', 'fecha_entrada', 'fecha_hecho', 'fecha_creacion', 'seccional_hechos',\n",
        "                   'Agrupador', 'Categoria', 'archivo_2020', 'archivo', 'año_hecho', 'año_entrada', 'año_creacion', 'delito_agrup', \n",
        "                   'deli_id','tipo_vinculacion', 'pers_id', 'imno_id', 'genero', 'edad', 'indigena', 'aplica_lgbti', 'defensor_ddhh',\n",
        "                   'afrodescendiente', 'grupo_etario', 'nna', 'adulto_mayor', 'mujer', 'subcategoria_fp', 'funcionario', 'exfuncionario',\n",
        "                   'cuenta_victima', 'tipo_delito', 'id_ult_actuacion_caso', 'h_violento', 'grupo_delito', 'rural_urbana', 'semanas_2020',\n",
        "                   'semanas_2021', 'seccional_hechos_x', 'archivo_2021', 'archivo_x', 'seccional_hechos_y', 'archivo_y', 'nunc',\n",
        "                   'entidad_receptora', 'unidad_receptora', 'sale', 'mes_hecho', 'dia_hecho', 'hora_aprox_hecho', 'semana_hecho',\n",
        "                   'dia_mes_hecho', 'dia_semana_hecho', 'ObjectId', 'semana_total', 'x', 'y', 'ObjectId2', 'GlobalID', 'VINCULACION_2']"
      ],
      "metadata": {
        "id": "cE4hKJFCK07O"
      },
      "execution_count": null,
      "outputs": []
    },
    {
      "cell_type": "code",
      "source": [
        "for col in Datos_FISC_ARcg:\n",
        "  if col not in df_inter.columns:\n",
        "    df_inter[col] = \"\""
      ],
      "metadata": {
        "id": "kBMMqW4O4K17"
      },
      "execution_count": null,
      "outputs": []
    },
    {
      "cell_type": "code",
      "source": [
        "df_inter = df_inter[Datos_FISC_ARcg]"
      ],
      "metadata": {
        "id": "Q58tlxrB4nXY"
      },
      "execution_count": null,
      "outputs": []
    },
    {
      "cell_type": "code",
      "source": [
        "Datos_FISC_ARcg == df_inter.columns"
      ],
      "metadata": {
        "colab": {
          "base_uri": "https://localhost:8080/"
        },
        "id": "FUOLqYS1EwPU",
        "outputId": "4f64d759-d878-4586-99ff-9c18ab5d76ff"
      },
      "execution_count": null,
      "outputs": [
        {
          "output_type": "execute_result",
          "data": {
            "text/plain": [
              "array([ True,  True,  True,  True,  True,  True,  True,  True,  True,\n",
              "        True,  True,  True,  True,  True,  True,  True,  True,  True,\n",
              "        True,  True,  True,  True,  True,  True,  True,  True,  True,\n",
              "        True,  True,  True,  True,  True,  True,  True,  True,  True,\n",
              "        True,  True,  True,  True,  True,  True,  True,  True,  True,\n",
              "        True,  True,  True,  True,  True,  True,  True,  True,  True,\n",
              "        True,  True,  True,  True,  True,  True,  True,  True,  True,\n",
              "        True,  True,  True,  True,  True,  True,  True,  True,  True,\n",
              "        True,  True,  True,  True,  True,  True,  True,  True,  True,\n",
              "        True,  True,  True,  True,  True])"
            ]
          },
          "metadata": {},
          "execution_count": 793
        }
      ]
    },
    {
      "cell_type": "code",
      "source": [
        "df_inter.año_hecho"
      ],
      "metadata": {
        "colab": {
          "base_uri": "https://localhost:8080/"
        },
        "id": "gRJ5cNy9ZktA",
        "outputId": "fffb75c2-154c-4242-a8a7-af329cc5cb09"
      },
      "execution_count": null,
      "outputs": [
        {
          "output_type": "execute_result",
          "data": {
            "text/plain": [
              "0        2019.0\n",
              "1        2019.0\n",
              "2        2019.0\n",
              "3        2019.0\n",
              "4        2019.0\n",
              "          ...  \n",
              "28443    2023.0\n",
              "28444    2023.0\n",
              "28445    2023.0\n",
              "28446    2022.0\n",
              "28447    2022.0\n",
              "Name: año_hecho, Length: 28448, dtype: object"
            ]
          },
          "metadata": {},
          "execution_count": 794
        }
      ]
    },
    {
      "cell_type": "code",
      "source": [
        "df_inter.año_hecho = df_inter.año_hecho.apply(int)\n",
        "df_inter.año_creacion = df_inter.año_creacion.apply(int)\n",
        "df_inter.cuenta_victima = df_inter.cuenta_victima.apply(float)"
      ],
      "metadata": {
        "id": "9lUhiBTXcyfx"
      },
      "execution_count": null,
      "outputs": []
    },
    {
      "cell_type": "code",
      "source": [
        "base_name = ruta_inter.split('/')[-1][:-5].replace('DIRECCIÓN SECCIONAL DE RISARALDA','')\n",
        "base_name = 'DELITOS HURTO_CON_INT_ZonaPER'\n",
        "\n",
        "print(base_name)"
      ],
      "metadata": {
        "colab": {
          "base_uri": "https://localhost:8080/"
        },
        "id": "VvKTrHP7FCsf",
        "outputId": "2d3848d9-74a6-41b2-bc2d-d95353bdbc22"
      },
      "execution_count": null,
      "outputs": [
        {
          "output_type": "stream",
          "name": "stdout",
          "text": [
            "DELITOS HURTO_CON_INT_ZonaPER\n"
          ]
        }
      ]
    },
    {
      "cell_type": "code",
      "source": [
        "# savepath = '/content/drive/MyDrive/MyArcGisFolder/Procesar x Delito/Semana 2_2023 - Processed/'\n",
        "# base_name = 'datos_FIS_UltActCaso_COMUBARRCUAD_mas2020'\n",
        "# base_name = 'DELITOS_INF_FISCALIA_ACTUALIZADO_SOMECHANGE'\n",
        "# base_name = 'HURTO_CON_INTER_UltActCaso'\n",
        "# base_name = 'Delitos_fis_INTER_PERDIDOS_DEPURACION_UltActCaso'\n",
        "# base_name = 'HURTOS_INTER_PERDIDOS_DEPURACION_UltActCaso'\n",
        "base_name = 'HOMICIDIOS_UltActCaso'\n",
        "\n",
        "savepath = '/content/drive/MyDrive/MyArcGisFolder/'\n",
        "df_homdepu.to_excel(savepath + base_name +'.xlsx', index=False)\n",
        "# df.to_csv(savepath + base_name +'.csv', index=False)"
      ],
      "metadata": {
        "id": "2-DpJq3yZygj"
      },
      "execution_count": 105,
      "outputs": []
    },
    {
      "cell_type": "markdown",
      "source": [
        "### Desarrollo para HURTOS"
      ],
      "metadata": {
        "id": "eRJiVHlAFtE9"
      }
    },
    {
      "cell_type": "code",
      "source": [
        "df_ref = pd.read_excel('/content/drive/MyDrive/MyArcGisFolder/Procesar x Delito/HURTO/PROCESSED/HURTO_CON_INTER_2022_50_PROCESSED_AREAS.xlsx')\n",
        "columns_ref = df_ref.columns\n",
        "print(len(columns_ref))"
      ],
      "metadata": {
        "id": "M_p7e48Ynqtu",
        "colab": {
          "base_uri": "https://localhost:8080/"
        },
        "outputId": "95ba51d0-e984-431e-e739-ddf0be18d22e"
      },
      "execution_count": null,
      "outputs": [
        {
          "output_type": "stream",
          "name": "stdout",
          "text": [
            "72\n"
          ]
        }
      ]
    },
    {
      "cell_type": "code",
      "source": [
        "file_name = 'DELITOS HURTO_CON_INT_ZonaPER_2023_2'\n",
        "ruta = glob('/*/*/*/MyArcGisFolder/*/HURTO/'+file_name+'.xlsx')\n",
        "print(ruta)"
      ],
      "metadata": {
        "id": "f1B_3F4znqNp",
        "colab": {
          "base_uri": "https://localhost:8080/"
        },
        "outputId": "25375d00-413e-4067-91be-1421733a0607"
      },
      "execution_count": null,
      "outputs": [
        {
          "output_type": "stream",
          "name": "stdout",
          "text": [
            "['/content/drive/MyDrive/MyArcGisFolder/Procesar x Delito/HURTO/DELITOS HURTO_CON_INT_ZonaPER_2023_2.xlsx']\n"
          ]
        }
      ]
    },
    {
      "cell_type": "code",
      "source": [
        "df = pd.read_excel(ruta[0])\n",
        "print(len(df), 'x', len(df.columns))"
      ],
      "metadata": {
        "id": "rQ-bKPUrnpHI",
        "colab": {
          "base_uri": "https://localhost:8080/"
        },
        "outputId": "8c3e2f09-010c-4c9f-94e7-1562d2a1426e"
      },
      "execution_count": null,
      "outputs": [
        {
          "output_type": "stream",
          "name": "stdout",
          "text": [
            "28448 x 86\n"
          ]
        }
      ]
    },
    {
      "cell_type": "markdown",
      "source": [
        "#### Buscando BARRIO y COMUNA (y su ID)"
      ],
      "metadata": {
        "id": "dpE3AI6PbtkG"
      }
    },
    {
      "cell_type": "code",
      "source": [
        "# Acceso a los archivos\n",
        "with open('/content/drive/MyDrive/MyArcGisFolder/Observatorio SC/2021/datos/Datos_georeferenciacion/comunas.geojson', \"r\") as geoFile:\n",
        "  geo_com = json.load(geoFile)\n",
        "\n",
        "with open('/content/drive/MyDrive/MyArcGisFolder/Observatorio SC/2021/datos/Datos_georeferenciacion/barrios.geojson', \"r\") as geoFile:\n",
        "  geo_bar = json.load(geoFile)\n",
        "        \n",
        "with open('/content/drive/MyDrive/MyArcGisFolder/Observatorio SC/2021/datos/Datos_georeferenciacion/cuadrantes.geojson', \"r\") as geoFile:\n",
        "  geo_cuad = json.load(geoFile)\n"
      ],
      "metadata": {
        "id": "L11vytZ8b3te"
      },
      "execution_count": null,
      "outputs": []
    },
    {
      "cell_type": "code",
      "source": [
        "info_comuna = df[['x','y']].apply(lambda x: fix_comuna_barrio(x,geo_com,codigos=['nombre','codcom']),axis=1)\n",
        "info_barrio = df[['x','y']].apply(lambda x: fix_comuna_barrio(x,geo_bar,codigos=['NOMBRE','FID']),axis=1)\n",
        "info_cuad   = df[['x','y']].apply(lambda x: fix_comuna_barrio(x,geo_cuad,codigos=['NRO_CUADRANTE','DESCRIPCION']),axis=1)"
      ],
      "metadata": {
        "id": "a4pDA1NldLS4"
      },
      "execution_count": null,
      "outputs": []
    },
    {
      "cell_type": "code",
      "source": [
        "df['COMUNA']= info_comuna.apply(lambda x: x[0])\n",
        "df['COMUNA_ID']= (info_comuna.apply(lambda x: x[1])).apply(comuna_id)\n",
        "\n",
        "df['BARRIO']= info_barrio.apply(lambda x: x[0])\n",
        "df['BARRIO_ID']= info_barrio.apply(lambda x: x[1])\n",
        "\n",
        "df['CUADRANTE']= info_cuad.apply(lambda x: x[0])\n",
        "df['CUADRANTE_DESCRIPCION']= info_cuad.apply(lambda x: x[1])"
      ],
      "metadata": {
        "id": "TcdvyeKSdW9g"
      },
      "execution_count": null,
      "outputs": []
    },
    {
      "cell_type": "code",
      "source": [
        "df[['COMUNA','COMUNA_ID','BARRIO','BARRIO_ID','CUADRANTE','CUADRANTE_DESCRIPCION']]"
      ],
      "metadata": {
        "colab": {
          "base_uri": "https://localhost:8080/",
          "height": 423
        },
        "id": "65EQYOnAcC1z",
        "outputId": "bb9f44db-632f-4dc9-cab2-c8e4803daa9e"
      },
      "execution_count": null,
      "outputs": [
        {
          "output_type": "execute_result",
          "data": {
            "text/plain": [
              "         COMUNA COMUNA_ID                  BARRIO BARRIO_ID  \\\n",
              "0         RURAL                             RURAL     RURAL   \n",
              "1         RURAL                             RURAL     RURAL   \n",
              "2      Del Café        18                   RURAL     RURAL   \n",
              "3      Del Café        18                   RURAL     RURAL   \n",
              "4      Del Café        18                   RURAL     RURAL   \n",
              "...         ...       ...                     ...       ...   \n",
              "29236     RURAL                             RURAL     RURAL   \n",
              "29237     RURAL                             RURAL     RURAL   \n",
              "29238     RURAL                             RURAL     RURAL   \n",
              "29239    Centro         3  Sector Galeria Central       441   \n",
              "29240    Centro         3  Sector Galeria Central       441   \n",
              "\n",
              "                       CUADRANTE  \\\n",
              "0      MEPERMNVCCC01E04000000001   \n",
              "1      MEPERMNVCCC01E04000000001   \n",
              "2      MEPERMNVCCC01E04000000002   \n",
              "3      MEPERMNVCCC01E04000000002   \n",
              "4      MEPERMNVCCC01E04000000002   \n",
              "...                          ...   \n",
              "29236  MEPERMNVCCC01E08S02000001   \n",
              "29237  MEPERMNVCCC01E08S02000001   \n",
              "29238  MEPERMNVCCC01E08S02000001   \n",
              "29239  MEPERMNVCCC01E01C09000005   \n",
              "29240  MEPERMNVCCC01E01C09000005   \n",
              "\n",
              "                                  CUADRANTE_DESCRIPCION  \n",
              "0      ESTACION DE POLICIA CIUDADELA DEL CAFE CUAD. 001  \n",
              "1      ESTACION DE POLICIA CIUDADELA DEL CAFE CUAD. 001  \n",
              "2      ESTACION DE POLICIA CIUDADELA DEL CAFE CUAD. 002  \n",
              "3      ESTACION DE POLICIA CIUDADELA DEL CAFE CUAD. 002  \n",
              "4      ESTACION DE POLICIA CIUDADELA DEL CAFE CUAD. 002  \n",
              "...                                                 ...  \n",
              "29236       SUBESTACION DE POLICIA LA FLORIDA CUAD. 001  \n",
              "29237       SUBESTACION DE POLICIA LA FLORIDA CUAD. 001  \n",
              "29238       SUBESTACION DE POLICIA LA FLORIDA CUAD. 001  \n",
              "29239                         CAI LA LIBERTAD CUAD. 005  \n",
              "29240                         CAI LA LIBERTAD CUAD. 005  \n",
              "\n",
              "[29241 rows x 6 columns]"
            ],
            "text/html": [
              "\n",
              "  <div id=\"df-b7ade4be-c733-49f2-8aee-4f2f357f4f84\">\n",
              "    <div class=\"colab-df-container\">\n",
              "      <div>\n",
              "<style scoped>\n",
              "    .dataframe tbody tr th:only-of-type {\n",
              "        vertical-align: middle;\n",
              "    }\n",
              "\n",
              "    .dataframe tbody tr th {\n",
              "        vertical-align: top;\n",
              "    }\n",
              "\n",
              "    .dataframe thead th {\n",
              "        text-align: right;\n",
              "    }\n",
              "</style>\n",
              "<table border=\"1\" class=\"dataframe\">\n",
              "  <thead>\n",
              "    <tr style=\"text-align: right;\">\n",
              "      <th></th>\n",
              "      <th>COMUNA</th>\n",
              "      <th>COMUNA_ID</th>\n",
              "      <th>BARRIO</th>\n",
              "      <th>BARRIO_ID</th>\n",
              "      <th>CUADRANTE</th>\n",
              "      <th>CUADRANTE_DESCRIPCION</th>\n",
              "    </tr>\n",
              "  </thead>\n",
              "  <tbody>\n",
              "    <tr>\n",
              "      <th>0</th>\n",
              "      <td>RURAL</td>\n",
              "      <td></td>\n",
              "      <td>RURAL</td>\n",
              "      <td>RURAL</td>\n",
              "      <td>MEPERMNVCCC01E04000000001</td>\n",
              "      <td>ESTACION DE POLICIA CIUDADELA DEL CAFE CUAD. 001</td>\n",
              "    </tr>\n",
              "    <tr>\n",
              "      <th>1</th>\n",
              "      <td>RURAL</td>\n",
              "      <td></td>\n",
              "      <td>RURAL</td>\n",
              "      <td>RURAL</td>\n",
              "      <td>MEPERMNVCCC01E04000000001</td>\n",
              "      <td>ESTACION DE POLICIA CIUDADELA DEL CAFE CUAD. 001</td>\n",
              "    </tr>\n",
              "    <tr>\n",
              "      <th>2</th>\n",
              "      <td>Del Café</td>\n",
              "      <td>18</td>\n",
              "      <td>RURAL</td>\n",
              "      <td>RURAL</td>\n",
              "      <td>MEPERMNVCCC01E04000000002</td>\n",
              "      <td>ESTACION DE POLICIA CIUDADELA DEL CAFE CUAD. 002</td>\n",
              "    </tr>\n",
              "    <tr>\n",
              "      <th>3</th>\n",
              "      <td>Del Café</td>\n",
              "      <td>18</td>\n",
              "      <td>RURAL</td>\n",
              "      <td>RURAL</td>\n",
              "      <td>MEPERMNVCCC01E04000000002</td>\n",
              "      <td>ESTACION DE POLICIA CIUDADELA DEL CAFE CUAD. 002</td>\n",
              "    </tr>\n",
              "    <tr>\n",
              "      <th>4</th>\n",
              "      <td>Del Café</td>\n",
              "      <td>18</td>\n",
              "      <td>RURAL</td>\n",
              "      <td>RURAL</td>\n",
              "      <td>MEPERMNVCCC01E04000000002</td>\n",
              "      <td>ESTACION DE POLICIA CIUDADELA DEL CAFE CUAD. 002</td>\n",
              "    </tr>\n",
              "    <tr>\n",
              "      <th>...</th>\n",
              "      <td>...</td>\n",
              "      <td>...</td>\n",
              "      <td>...</td>\n",
              "      <td>...</td>\n",
              "      <td>...</td>\n",
              "      <td>...</td>\n",
              "    </tr>\n",
              "    <tr>\n",
              "      <th>29236</th>\n",
              "      <td>RURAL</td>\n",
              "      <td></td>\n",
              "      <td>RURAL</td>\n",
              "      <td>RURAL</td>\n",
              "      <td>MEPERMNVCCC01E08S02000001</td>\n",
              "      <td>SUBESTACION DE POLICIA LA FLORIDA CUAD. 001</td>\n",
              "    </tr>\n",
              "    <tr>\n",
              "      <th>29237</th>\n",
              "      <td>RURAL</td>\n",
              "      <td></td>\n",
              "      <td>RURAL</td>\n",
              "      <td>RURAL</td>\n",
              "      <td>MEPERMNVCCC01E08S02000001</td>\n",
              "      <td>SUBESTACION DE POLICIA LA FLORIDA CUAD. 001</td>\n",
              "    </tr>\n",
              "    <tr>\n",
              "      <th>29238</th>\n",
              "      <td>RURAL</td>\n",
              "      <td></td>\n",
              "      <td>RURAL</td>\n",
              "      <td>RURAL</td>\n",
              "      <td>MEPERMNVCCC01E08S02000001</td>\n",
              "      <td>SUBESTACION DE POLICIA LA FLORIDA CUAD. 001</td>\n",
              "    </tr>\n",
              "    <tr>\n",
              "      <th>29239</th>\n",
              "      <td>Centro</td>\n",
              "      <td>3</td>\n",
              "      <td>Sector Galeria Central</td>\n",
              "      <td>441</td>\n",
              "      <td>MEPERMNVCCC01E01C09000005</td>\n",
              "      <td>CAI LA LIBERTAD CUAD. 005</td>\n",
              "    </tr>\n",
              "    <tr>\n",
              "      <th>29240</th>\n",
              "      <td>Centro</td>\n",
              "      <td>3</td>\n",
              "      <td>Sector Galeria Central</td>\n",
              "      <td>441</td>\n",
              "      <td>MEPERMNVCCC01E01C09000005</td>\n",
              "      <td>CAI LA LIBERTAD CUAD. 005</td>\n",
              "    </tr>\n",
              "  </tbody>\n",
              "</table>\n",
              "<p>29241 rows × 6 columns</p>\n",
              "</div>\n",
              "      <button class=\"colab-df-convert\" onclick=\"convertToInteractive('df-b7ade4be-c733-49f2-8aee-4f2f357f4f84')\"\n",
              "              title=\"Convert this dataframe to an interactive table.\"\n",
              "              style=\"display:none;\">\n",
              "        \n",
              "  <svg xmlns=\"http://www.w3.org/2000/svg\" height=\"24px\"viewBox=\"0 0 24 24\"\n",
              "       width=\"24px\">\n",
              "    <path d=\"M0 0h24v24H0V0z\" fill=\"none\"/>\n",
              "    <path d=\"M18.56 5.44l.94 2.06.94-2.06 2.06-.94-2.06-.94-.94-2.06-.94 2.06-2.06.94zm-11 1L8.5 8.5l.94-2.06 2.06-.94-2.06-.94L8.5 2.5l-.94 2.06-2.06.94zm10 10l.94 2.06.94-2.06 2.06-.94-2.06-.94-.94-2.06-.94 2.06-2.06.94z\"/><path d=\"M17.41 7.96l-1.37-1.37c-.4-.4-.92-.59-1.43-.59-.52 0-1.04.2-1.43.59L10.3 9.45l-7.72 7.72c-.78.78-.78 2.05 0 2.83L4 21.41c.39.39.9.59 1.41.59.51 0 1.02-.2 1.41-.59l7.78-7.78 2.81-2.81c.8-.78.8-2.07 0-2.86zM5.41 20L4 18.59l7.72-7.72 1.47 1.35L5.41 20z\"/>\n",
              "  </svg>\n",
              "      </button>\n",
              "      \n",
              "  <style>\n",
              "    .colab-df-container {\n",
              "      display:flex;\n",
              "      flex-wrap:wrap;\n",
              "      gap: 12px;\n",
              "    }\n",
              "\n",
              "    .colab-df-convert {\n",
              "      background-color: #E8F0FE;\n",
              "      border: none;\n",
              "      border-radius: 50%;\n",
              "      cursor: pointer;\n",
              "      display: none;\n",
              "      fill: #1967D2;\n",
              "      height: 32px;\n",
              "      padding: 0 0 0 0;\n",
              "      width: 32px;\n",
              "    }\n",
              "\n",
              "    .colab-df-convert:hover {\n",
              "      background-color: #E2EBFA;\n",
              "      box-shadow: 0px 1px 2px rgba(60, 64, 67, 0.3), 0px 1px 3px 1px rgba(60, 64, 67, 0.15);\n",
              "      fill: #174EA6;\n",
              "    }\n",
              "\n",
              "    [theme=dark] .colab-df-convert {\n",
              "      background-color: #3B4455;\n",
              "      fill: #D2E3FC;\n",
              "    }\n",
              "\n",
              "    [theme=dark] .colab-df-convert:hover {\n",
              "      background-color: #434B5C;\n",
              "      box-shadow: 0px 1px 3px 1px rgba(0, 0, 0, 0.15);\n",
              "      filter: drop-shadow(0px 1px 2px rgba(0, 0, 0, 0.3));\n",
              "      fill: #FFFFFF;\n",
              "    }\n",
              "  </style>\n",
              "\n",
              "      <script>\n",
              "        const buttonEl =\n",
              "          document.querySelector('#df-b7ade4be-c733-49f2-8aee-4f2f357f4f84 button.colab-df-convert');\n",
              "        buttonEl.style.display =\n",
              "          google.colab.kernel.accessAllowed ? 'block' : 'none';\n",
              "\n",
              "        async function convertToInteractive(key) {\n",
              "          const element = document.querySelector('#df-b7ade4be-c733-49f2-8aee-4f2f357f4f84');\n",
              "          const dataTable =\n",
              "            await google.colab.kernel.invokeFunction('convertToInteractive',\n",
              "                                                     [key], {});\n",
              "          if (!dataTable) return;\n",
              "\n",
              "          const docLinkHtml = 'Like what you see? Visit the ' +\n",
              "            '<a target=\"_blank\" href=https://colab.research.google.com/notebooks/data_table.ipynb>data table notebook</a>'\n",
              "            + ' to learn more about interactive tables.';\n",
              "          element.innerHTML = '';\n",
              "          dataTable['output_type'] = 'display_data';\n",
              "          await google.colab.output.renderOutput(dataTable, element);\n",
              "          const docLink = document.createElement('div');\n",
              "          docLink.innerHTML = docLinkHtml;\n",
              "          element.appendChild(docLink);\n",
              "        }\n",
              "      </script>\n",
              "    </div>\n",
              "  </div>\n",
              "  "
            ]
          },
          "metadata": {},
          "execution_count": 16
        }
      ]
    },
    {
      "cell_type": "markdown",
      "source": [
        "#### Generando columnas con orden adecuado"
      ],
      "metadata": {
        "id": "eNp-CiYM4vYd"
      }
    },
    {
      "cell_type": "code",
      "source": [
        "# Columnas en orden para datos en tablero de Hurtos.\n",
        "# Se codifica grupo_etario y dia_semana_hecho\n",
        "# No se codifican variables de SI/NO\n",
        "\n",
        "colu_hur = ['caso_id', 'deli_id', 'tipo_vinculacion', 'pers_id', 'imno_id',\n",
        "       'genero', 'edad', 'indigena', 'aplica_lgbti', 'defensor_ddhh',\n",
        "       'afrodescendiente', 'grupo_etario', 'nna', 'adulto_mayor', 'mujer',\n",
        "       'subcategoria_fp', 'funcionario', 'exfuncionario', 'cuenta_victima',\n",
        "       'año_corrido', 'estado', 'etapa', 'hora_hecho', 'municipio_hecho',\n",
        "       'departamento_hecho', 'codigo_dane_mun_hechos', 'region',\n",
        "       'latitud_hechos', 'longitud_hechos', 'seccional_asignacion',\n",
        "       'seccional_mapa_jud_hecho', 'delito', 'tipo_delito', 'modo_delito',\n",
        "       'modalidad_delito', 'caracterizacion_delito', 'grupo', 'denuncia_linea',\n",
        "       'grado_delito', 'ley', 'localidad_hechos', 'barrio_hechos',\n",
        "       'zona_hechos', 'direccion_hechos', 'titulo', 'capitulo',\n",
        "       'fecha_entrada', 'fecha_hecho', 'fecha_creacion', 'seccional_hechos',\n",
        "       'archivo', 'archivo_2020', 'año_entrada', 'año_creacion', 'año_hecho',\n",
        "       'id_ult_actuacion_caso', 'mes_hecho', 'dia_hecho', 'hora_aprox_hecho',\n",
        "       'semana_hecho', 'dia_mes_hecho', 'dia_semana_hecho', 'semana_total',\n",
        "       'x', 'y', 'COMUNA', 'COMUNA_ID', 'BARRIO', 'BARRIO_ID',\n",
        "       'CUADRANTE', 'CUADRANTE_DESCRIPCION']\n",
        "\n",
        "df = df[colu_hur]"
      ],
      "metadata": {
        "id": "nJMZN54S6Bu0"
      },
      "execution_count": null,
      "outputs": []
    },
    {
      "cell_type": "code",
      "source": [
        "print(len(df), 'x', len(df.columns))"
      ],
      "metadata": {
        "colab": {
          "base_uri": "https://localhost:8080/"
        },
        "id": "Jf8dAEKn4jFU",
        "outputId": "8756fa1a-fbd2-4441-a3bb-16b626003abe"
      },
      "execution_count": null,
      "outputs": [
        {
          "output_type": "stream",
          "name": "stdout",
          "text": [
            "28448 x 72\n"
          ]
        }
      ]
    },
    {
      "cell_type": "markdown",
      "source": [
        "### Grupo etario\n",
        "```\n",
        "0 = 0 a 13años\n",
        "1 = 14 a 17\n",
        "2 = 18 a 26\n",
        "3 = 27 a 59\n",
        "4 = 60 o más\n",
        "5 = SIN DATO\n",
        "```"
      ],
      "metadata": {
        "id": "jCtwCnehHG7_"
      }
    },
    {
      "cell_type": "code",
      "source": [
        "len(np.unique(df.grupo_etario)), np.unique(df.grupo_etario)"
      ],
      "metadata": {
        "colab": {
          "base_uri": "https://localhost:8080/"
        },
        "id": "6x_Q6ogSHH9b",
        "outputId": "3382fd24-d663-4045-c005-59a68154e3f9"
      },
      "execution_count": null,
      "outputs": [
        {
          "output_type": "execute_result",
          "data": {
            "text/plain": [
              "(6, array(['Adolescente de 14 a 17 años.', 'Adulto entre 27 y 59 años.',\n",
              "        'Adulto mayor. Personas igual o mayor a 60 años.',\n",
              "        'Joven de 18 a 26 años.', 'Niño, Niña. Población de 0 a 13 años.',\n",
              "        'SIN DATO'], dtype=object))"
            ]
          },
          "metadata": {},
          "execution_count": 22
        }
      ]
    },
    {
      "cell_type": "code",
      "source": [
        "rangos = {'Niño, Niña. Población de 0 a 13 años.':0, \n",
        "          'Adolescente de 14 a 17 años.':1, \n",
        "          'Joven de 18 a 26 años.':2, \n",
        "          'Adulto entre 27 y 59 años.':3, \n",
        "          'Adulto mayor. Personas igual o mayor a 60 años.':4,\n",
        "          'SIN DATO':5}"
      ],
      "metadata": {
        "id": "1wW1PFE3HU1a"
      },
      "execution_count": null,
      "outputs": []
    },
    {
      "cell_type": "code",
      "source": [
        "for index,ran in enumerate(df.grupo_etario):\n",
        "  df.grupo_etario[index] = rangos[ran]"
      ],
      "metadata": {
        "colab": {
          "base_uri": "https://localhost:8080/"
        },
        "id": "DSfOvfxjHWqx",
        "outputId": "b93dec07-fa65-4139-cc16-88b7b023b131"
      },
      "execution_count": null,
      "outputs": [
        {
          "output_type": "stream",
          "name": "stderr",
          "text": [
            "<ipython-input-59-dc7687c064f5>:2: SettingWithCopyWarning: \n",
            "A value is trying to be set on a copy of a slice from a DataFrame\n",
            "\n",
            "See the caveats in the documentation: https://pandas.pydata.org/pandas-docs/stable/user_guide/indexing.html#returning-a-view-versus-a-copy\n",
            "  df.grupo_etario[index] = rangos[ran]\n"
          ]
        }
      ]
    },
    {
      "cell_type": "code",
      "source": [
        "np.unique(df.grupo_etario)"
      ],
      "metadata": {
        "id": "kwC-6PhsHZQw",
        "colab": {
          "base_uri": "https://localhost:8080/"
        },
        "outputId": "168b7a1c-fca6-400d-9fdb-2664e26ecb11"
      },
      "execution_count": null,
      "outputs": [
        {
          "output_type": "execute_result",
          "data": {
            "text/plain": [
              "array([0, 1, 2, 3, 4, 5], dtype=object)"
            ]
          },
          "metadata": {},
          "execution_count": 60
        }
      ]
    },
    {
      "cell_type": "markdown",
      "source": [
        "### Pasar de bool a str\n",
        "adulto_mayor - mujer - indigena - aplica_lgbti - defensor_ddhh - afrodescendiente - nna "
      ],
      "metadata": {
        "id": "PvO1zczs5mi8"
      }
    },
    {
      "cell_type": "code",
      "source": [
        "for col in ['adulto_mayor', 'mujer', 'indigena', 'aplica_lgbti', 'defensor_ddhh', 'afrodescendiente', 'nna']:\n",
        "  df[col] = df[col].apply(bool_to_string)"
      ],
      "metadata": {
        "id": "0Cy55HSA5mi-"
      },
      "execution_count": null,
      "outputs": []
    },
    {
      "cell_type": "code",
      "source": [
        "np.unique(df.indigena)"
      ],
      "metadata": {
        "colab": {
          "base_uri": "https://localhost:8080/"
        },
        "outputId": "9eb43f48-c8d3-4e0f-ce35-6a7c416a76b2",
        "id": "g-YVvugs5mi_"
      },
      "execution_count": null,
      "outputs": [
        {
          "output_type": "execute_result",
          "data": {
            "text/plain": [
              "array(['NO', 'SI'], dtype=object)"
            ]
          },
          "metadata": {},
          "execution_count": 62
        }
      ]
    },
    {
      "cell_type": "markdown",
      "source": [
        "### GUARDAR"
      ],
      "metadata": {
        "id": "j5g0cjHd7Lv6"
      }
    },
    {
      "cell_type": "code",
      "source": [
        "print(columns_ref == df.columns)\n",
        "print(len(df), 'x', len(df.columns))"
      ],
      "metadata": {
        "colab": {
          "base_uri": "https://localhost:8080/"
        },
        "outputId": "e0189ba3-9251-4953-d238-132ea8561b43",
        "id": "U2mqKYup7Lv8"
      },
      "execution_count": null,
      "outputs": [
        {
          "output_type": "stream",
          "name": "stdout",
          "text": [
            "[ True  True  True  True  True  True  True  True  True  True  True  True\n",
            "  True  True  True  True  True  True  True  True  True  True  True  True\n",
            "  True  True  True  True  True  True  True  True  True  True  True  True\n",
            "  True  True  True  True  True  True  True  True  True  True  True  True\n",
            "  True  True  True  True  True  True  True  True  True  True  True  True\n",
            "  True  True  True  True  True  True  True  True  True  True  True  True]\n",
            "28448 x 72\n"
          ]
        }
      ]
    },
    {
      "cell_type": "code",
      "source": [
        "df.año_hecho"
      ],
      "metadata": {
        "colab": {
          "base_uri": "https://localhost:8080/"
        },
        "outputId": "bded76d2-a627-4537-dfc5-712a84a5b886",
        "id": "_g3pH7so7Lv8"
      },
      "execution_count": null,
      "outputs": [
        {
          "output_type": "execute_result",
          "data": {
            "text/plain": [
              "0        2019\n",
              "1        2019\n",
              "2        2019\n",
              "3        2019\n",
              "4        2019\n",
              "         ... \n",
              "28443    2023\n",
              "28444    2023\n",
              "28445    2023\n",
              "28446    2022\n",
              "28447    2022\n",
              "Name: año_hecho, Length: 28448, dtype: int64"
            ]
          },
          "metadata": {},
          "execution_count": 64
        }
      ]
    },
    {
      "cell_type": "code",
      "source": [
        "df.año_hecho = df.año_hecho.apply(int)\n",
        "df.año_creacion = df.año_creacion.apply(int)\n",
        "df.cuenta_victima = df.cuenta_victima.apply(float)"
      ],
      "metadata": {
        "id": "sO2plJ-97Lv8"
      },
      "execution_count": null,
      "outputs": []
    },
    {
      "cell_type": "code",
      "source": [
        "base_name = ruta[0].split('/')[-1][:-5]\n",
        "base_name = 'HURTO_CON_INTER_2023_2_PROCESSED_AREAS'\n",
        "\n",
        "print(base_name)"
      ],
      "metadata": {
        "colab": {
          "base_uri": "https://localhost:8080/"
        },
        "outputId": "90e84c07-a8a4-4b2b-8407-cc7876c4d867",
        "id": "kW6XMYxK7Lv9"
      },
      "execution_count": null,
      "outputs": [
        {
          "output_type": "stream",
          "name": "stdout",
          "text": [
            "HURTO_CON_INTER_2023_2_PROCESSED_AREAS\n"
          ]
        }
      ]
    },
    {
      "cell_type": "code",
      "source": [
        "savepath = '/content/drive/MyDrive/MyArcGisFolder/Procesar x Delito/HURTO/PROCESSED/'\n",
        "df.to_excel(savepath + base_name +'.xlsx', index=False)"
      ],
      "metadata": {
        "id": "chNfYgdU7Lv9"
      },
      "execution_count": null,
      "outputs": []
    },
    {
      "cell_type": "markdown",
      "source": [
        "## Verificación Datos Repetidos"
      ],
      "metadata": {
        "id": "bEKU_xZeRLsj"
      }
    },
    {
      "cell_type": "code",
      "source": [
        "df_8 = pd.read_excel('/content/drive/MyDrive/MyArcGisFolder/Procesar x Delito/HURTO/ORIGINALES/DIRECCIÓN SECCIONAL DE RISARALDA HURTO_2022_8.xlsx')\n",
        "df_50 = pd.read_excel('/content/drive/MyDrive/MyArcGisFolder/Procesar x Delito/HURTO/ORIGINALES/DIRECCIÓN SECCIONAL DE RISARALDA HURTO_2022_50.xlsx')\n"
      ],
      "metadata": {
        "id": "mEHM5YDFRUZh"
      },
      "execution_count": null,
      "outputs": []
    },
    {
      "cell_type": "code",
      "source": [
        "len(df_8), len(df_50)"
      ],
      "metadata": {
        "colab": {
          "base_uri": "https://localhost:8080/"
        },
        "id": "QjLP8YfOUv8u",
        "outputId": "3a5c5fc5-394a-4415-dd91-1a62b41ccb23"
      },
      "execution_count": null,
      "outputs": [
        {
          "output_type": "execute_result",
          "data": {
            "text/plain": [
              "(6989, 17883)"
            ]
          },
          "metadata": {},
          "execution_count": 60
        }
      ]
    },
    {
      "cell_type": "code",
      "source": [
        "len(df_8.columns)"
      ],
      "metadata": {
        "colab": {
          "base_uri": "https://localhost:8080/"
        },
        "id": "0aQbg9KTnnT8",
        "outputId": "febb0b5d-886c-40b4-d0ea-32f5d9307606"
      },
      "execution_count": null,
      "outputs": [
        {
          "output_type": "execute_result",
          "data": {
            "text/plain": [
              "40"
            ]
          },
          "metadata": {},
          "execution_count": 61
        }
      ]
    },
    {
      "cell_type": "code",
      "source": [
        "df_8.latitud_hechos  = df_8.latitud_hechos.apply(str_comma_to_float)"
      ],
      "metadata": {
        "id": "vz7KXWzbpHly"
      },
      "execution_count": null,
      "outputs": []
    },
    {
      "cell_type": "code",
      "source": [
        "for col in df_8.columns:        # Verificar las columnas que están repetidas en intervinientes y en hurto\n",
        "  if col in df_50.columns:       # También se verifica que los tipos de dato sean iguales para posteriormente comparar\n",
        "    print(col ,  \"-\"*10,type(df_8[str(col)][0]), \"---- 50:\", type(df_50[str(col)][0]))\n"
      ],
      "metadata": {
        "colab": {
          "base_uri": "https://localhost:8080/"
        },
        "id": "WfcvU7dtotFp",
        "outputId": "2514bff9-813d-43bd-e82e-a6c8859e05e3"
      },
      "execution_count": null,
      "outputs": [
        {
          "output_type": "stream",
          "name": "stdout",
          "text": [
            "caso_id ---------- <class 'numpy.int64'> ---- 50: <class 'numpy.int64'>\n",
            "año_corrido ---------- <class 'str'> ---- 50: <class 'str'>\n",
            "caso_averiguacion ---------- <class 'str'> ---- 50: <class 'str'>\n",
            "estado ---------- <class 'str'> ---- 50: <class 'str'>\n",
            "etapa ---------- <class 'str'> ---- 50: <class 'str'>\n",
            "hora_hecho ---------- <class 'str'> ---- 50: <class 'str'>\n",
            "municipio_hecho ---------- <class 'str'> ---- 50: <class 'str'>\n",
            "departamento_hecho ---------- <class 'str'> ---- 50: <class 'str'>\n",
            "codigo_dane_mun_hechos ---------- <class 'numpy.float64'> ---- 50: <class 'numpy.float64'>\n",
            "region ---------- <class 'str'> ---- 50: <class 'str'>\n",
            "latitud_hechos ---------- <class 'numpy.float64'> ---- 50: <class 'numpy.float64'>\n",
            "longitud_hechos ---------- <class 'numpy.float64'> ---- 50: <class 'numpy.float64'>\n",
            "seccional_asignacion ---------- <class 'str'> ---- 50: <class 'str'>\n",
            "seccional_mapa_jud_hecho ---------- <class 'str'> ---- 50: <class 'str'>\n",
            "tipo_delito ---------- <class 'str'> ---- 50: <class 'str'>\n",
            "delito ---------- <class 'str'> ---- 50: <class 'str'>\n",
            "modalidad_delito ---------- <class 'str'> ---- 50: <class 'str'>\n",
            "modo_delito ---------- <class 'float'> ---- 50: <class 'float'>\n",
            "caracterizacion_delito ---------- <class 'str'> ---- 50: <class 'str'>\n",
            "denuncia_linea ---------- <class 'str'> ---- 50: <class 'str'>\n",
            "grupo ---------- <class 'str'> ---- 50: <class 'str'>\n",
            "id_ult_actuacion_caso ---------- <class 'numpy.float64'> ---- 50: <class 'numpy.float64'>\n",
            "grado_delito ---------- <class 'float'> ---- 50: <class 'float'>\n",
            "ley ---------- <class 'str'> ---- 50: <class 'str'>\n",
            "localidad_hechos ---------- <class 'str'> ---- 50: <class 'float'>\n",
            "barrio_hechos ---------- <class 'str'> ---- 50: <class 'float'>\n",
            "zona_hechos ---------- <class 'str'> ---- 50: <class 'float'>\n",
            "direccion_hechos ---------- <class 'str'> ---- 50: <class 'str'>\n",
            "titulo ---------- <class 'str'> ---- 50: <class 'str'>\n",
            "capitulo ---------- <class 'str'> ---- 50: <class 'str'>\n",
            "fecha_entrada ---------- <class 'pandas._libs.tslibs.timestamps.Timestamp'> ---- 50: <class 'pandas._libs.tslibs.timestamps.Timestamp'>\n",
            "fecha_hecho ---------- <class 'pandas._libs.tslibs.timestamps.Timestamp'> ---- 50: <class 'pandas._libs.tslibs.timestamps.Timestamp'>\n",
            "fecha_creacion ---------- <class 'pandas._libs.tslibs.timestamps.Timestamp'> ---- 50: <class 'pandas._libs.tslibs.timestamps.Timestamp'>\n",
            "seccional_hechos ---------- <class 'str'> ---- 50: <class 'str'>\n",
            "archivo_2021 ---------- <class 'str'> ---- 50: <class 'str'>\n",
            "archivo ---------- <class 'str'> ---- 50: <class 'str'>\n",
            "año_hecho ---------- <class 'numpy.float64'> ---- 50: <class 'numpy.float64'>\n",
            "año_entrada ---------- <class 'numpy.int64'> ---- 50: <class 'numpy.int64'>\n",
            "año_creacion ---------- <class 'numpy.int64'> ---- 50: <class 'numpy.int64'>\n"
          ]
        }
      ]
    },
    {
      "cell_type": "code",
      "source": [
        "ind_8 = []\n",
        "ind_50 = []\n",
        "\n",
        "for indx_8,caso in enumerate(df_8.caso_id):\n",
        "  if caso in df_50.caso_id.to_list():\n",
        "    indx_50 = df_50.loc[df_50['caso_id'] == caso].index[0]\n",
        "    ind_8.append(indx_8)\n",
        "    ind_50.append(indx_50)"
      ],
      "metadata": {
        "id": "mVibLTFlRaFf"
      },
      "execution_count": null,
      "outputs": []
    },
    {
      "cell_type": "code",
      "source": [
        "len(ind_8), len(ind_50)"
      ],
      "metadata": {
        "colab": {
          "base_uri": "https://localhost:8080/"
        },
        "id": "jgGXHx9Tq7k5",
        "outputId": "ff648665-7029-473d-c856-379b251abff6"
      },
      "execution_count": null,
      "outputs": [
        {
          "output_type": "execute_result",
          "data": {
            "text/plain": [
              "(6966, 6966)"
            ]
          },
          "metadata": {},
          "execution_count": 67
        }
      ]
    },
    {
      "cell_type": "code",
      "source": [
        "df_casos8 = df_8.iloc[ind_8].reset_index(drop=True)\n",
        "df_casos50 = df_50.iloc[ind_50].reset_index(drop=True)"
      ],
      "metadata": {
        "id": "m3d9cB2srAtQ"
      },
      "execution_count": null,
      "outputs": []
    },
    {
      "cell_type": "code",
      "source": [
        "for col in df_casos8.columns:\n",
        "  rep = 0\n",
        "  if col in df_casos50.columns:\n",
        "    \n",
        "    for i,valor in enumerate(df_casos8[str(col)]):\n",
        "      if valor == df_casos50[str(col)].iloc[i]:\n",
        "        rep += 1\n",
        "      else:\n",
        "        print(valor, '/// ',df_casos50[str(col)].iloc[i])\n",
        "  print(col, rep)\n",
        "    "
      ],
      "metadata": {
        "colab": {
          "base_uri": "https://localhost:8080/"
        },
        "id": "ZP9Yoovrrfn8",
        "outputId": "957a8d63-77af-4b16-adec-9cdaa726a73f"
      },
      "execution_count": null,
      "outputs": [
        {
          "output_type": "stream",
          "name": "stdout",
          "text": [
            "caso_id 238\n",
            "790535984 ///  790535801\n",
            "790752999 ///  790752838\n",
            "790753001 ///  790752838\n",
            "790763593 ///  790763591\n",
            "790873639 ///  790873515\n",
            "791690751 ///  791690750\n",
            "791923900 ///  791923852\n",
            "792024334 ///  792024332\n",
            "792216687 ///  790653850\n",
            "792510311 ///  792510246\n",
            "790727595 ///  790727578\n",
            "791732136 ///  794031335\n",
            "791762364 ///  791762168\n",
            "106197500 ///  106197486\n",
            "791989904 ///  791989862\n",
            "106417569 ///  106417402\n",
            "791428210 ///  791428204\n",
            "792293071 ///  792288534\n",
            "pers_id 220\n",
            "42978848 ///  42978849\n",
            "43233538 ///  43233540\n",
            "43233545 ///  43233540\n",
            "43245386 ///  43245381\n",
            "43375513 ///  43375514\n",
            "44362298 ///  44362297\n",
            "44648876 ///  44648798\n",
            "44767908 ///  44767906\n",
            "45000358 ///  48348063\n",
            "45356844 ///  45356828\n",
            "43204734 ///  43204701\n",
            "46016352 ///  47238556\n",
            "44450783 ///  44450632\n",
            "42354586 ///  42354571\n",
            "44726383 ///  44726278\n",
            "42609849 ///  42609729\n",
            "44042701 ///  44042689\n",
            "45092581 ///  45087581\n",
            "imno_id 220\n",
            "F ///  M\n",
            "F ///  M\n",
            "F ///  M\n",
            "M ///  F\n",
            "genero 234\n",
            "NO ///  SI\n",
            "indigena 237\n",
            "aplica_lgbti 238\n",
            "defensor_ddhh 238\n",
            "afrodescendiente 238\n",
            "Adulto entre 27 y 59 años. ///  Adulto mayor. Personas igual o mayor a 60 años.\n",
            "Joven de 18 a 26 años. ///  Adulto entre 27 y 59 años.\n",
            "Joven de 18 a 26 años. ///  Adulto entre 27 y 59 años.\n",
            "Adolescente de 14 a 17 años. ///  Adulto entre 27 y 59 años.\n",
            "Adolescente de 14 a 17 años. ///  Adulto entre 27 y 59 años.\n",
            "Adulto entre 27 y 59 años. ///  Adulto mayor. Personas igual o mayor a 60 años.\n",
            "Niño, Niña. Población de 0 a 13 años. ///  Joven de 18 a 26 años.\n",
            "grupo_etario 231\n",
            "cuenta_victima 238\n",
            "2021-11-06 00:00:00 ///  2021-05-18 00:00:00\n",
            "2021-09-17 00:00:00 ///  2021-06-17 00:00:00\n",
            "fecha_hecho 236\n",
            "66001 ///  66170\n",
            "codigo_dane_mun_hechos 237\n",
            "ACTIVO ///  INACTIVO\n",
            "ACTIVO ///  INACTIVO\n",
            "ACTIVO ///  INACTIVO\n",
            "ACTIVO ///  INACTIVO\n",
            "ACTIVO ///  INACTIVO\n",
            "ACTIVO ///  INACTIVO\n",
            "ACTIVO ///  INACTIVO\n",
            "ACTIVO ///  INACTIVO\n",
            "ACTIVO ///  INACTIVO\n",
            "ACTIVO ///  INACTIVO\n",
            "ACTIVO ///  INACTIVO\n",
            "ACTIVO ///  INACTIVO\n",
            "ACTIVO ///  INACTIVO\n",
            "ACTIVO ///  INACTIVO\n",
            "ACTIVO ///  INACTIVO\n",
            "ACTIVO ///  INACTIVO\n",
            "ACTIVO ///  INACTIVO\n",
            "ACTIVO ///  INACTIVO\n",
            "ACTIVO ///  INACTIVO\n",
            "ACTIVO ///  INACTIVO\n",
            "ACTIVO ///  INACTIVO\n",
            "ACTIVO ///  INACTIVO\n",
            "ACTIVO ///  INACTIVO\n",
            "ACTIVO ///  INACTIVO\n",
            "ACTIVO ///  INACTIVO\n",
            "estado 213\n",
            "JUICIO ///  EJECUCIÓN DE PENAS\n",
            "INDAGACIÓN ///  JUICIO\n",
            "JUICIO ///  EJECUCIÓN DE PENAS\n",
            "INDAGACIÓN ///  JUICIO\n",
            "INVESTIGACIÓN ///  JUICIO\n",
            "JUICIO ///  EJECUCIÓN DE PENAS\n",
            "INDAGACIÓN ///  EJECUCIÓN DE PENAS\n",
            "INVESTIGACIÓN ///  JUICIO\n",
            "INDAGACIÓN ///  JUICIO\n",
            "INVESTIGACIÓN ///  EJECUCIÓN DE PENAS\n",
            "INDAGACIÓN ///  JUICIO\n",
            "INDAGACIÓN ///  JUICIO\n",
            "JUICIO ///  EJECUCIÓN DE PENAS\n",
            "INDAGACIÓN ///  JUICIO\n",
            "JUICIO ///  EJECUCIÓN DE PENAS\n",
            "TERMINACIÓN ANTICIPADA ///  EJECUCIÓN DE PENAS\n",
            "JUICIO ///  TERMINACIÓN ANTICIPADA\n",
            "EJECUCIÓN DE PENAS ///  JUICIO\n",
            "TERMINACIÓN ANTICIPADA ///  EJECUCIÓN DE PENAS\n",
            "INDAGACIÓN ///  INVESTIGACIÓN\n",
            "INVESTIGACIÓN ///  JUICIO\n",
            "JUICIO ///  EJECUCIÓN DE PENAS\n",
            "INDAGACIÓN ///  INVESTIGACIÓN\n",
            "INVESTIGACIÓN ///  JUICIO\n",
            "INVESTIGACIÓN ///  JUICIO\n",
            "INDAGACIÓN ///  JUICIO\n",
            "JUICIO ///  EJECUCIÓN DE PENAS\n",
            "INDAGACIÓN ///  INVESTIGACIÓN\n",
            "JUICIO ///  EJECUCIÓN DE PENAS\n",
            "INVESTIGACIÓN ///  JUICIO\n",
            "JUICIO ///  EJECUCIÓN DE PENAS\n",
            "INDAGACIÓN ///  JUICIO\n",
            "etapa 206\n",
            "PEREIRA ///  DOSQUEBRADAS\n",
            "municipio_hecho 237\n",
            "departamento_hecho 238\n",
            "4.83043 ///  4.82399\n",
            "4.76747 ///  4.76241\n",
            "4.81213 ///  4.7973\n",
            "5.20029 ///  5.20016\n",
            "4.82182 ///  4.82105\n",
            "4.8453 ///  4.84438\n",
            "4.83968 ///  4.83971\n",
            "latitud_hechos 231\n",
            "-75.68334 ///  -75.70715\n",
            "-75.90239 ///  -75.88653\n",
            "-75.69021 ///  -75.7457\n",
            "-75.8676 ///  -75.86761\n",
            "-75.70205 ///  -75.69357\n",
            "-75.66595 ///  -75.66666\n",
            "-75.67814 ///  -75.67786\n",
            "longitud_hechos 231\n",
            "FEMINICIDIO ART. 104A C.P. ///  FEMINICIDIO ART. 104A C.P. AGRAVADO POR VICTIMA MENOR DE 18 AÑOS, MAYOR DE 60 O EMBARAZO. ART. 104B L.B\n",
            "delito 237\n",
            "grupo_delito 238\n",
            "modo_delito 238\n",
            "POR ESTABLECER ///  SICARIATO\n",
            "VIOLENCIA SEXUAL ///  SIGNOS DE VIOLENCIA FÍSICA (TORTURA)\n",
            "modalidad_delito 236\n",
            "Rural ///  Urbana exacta\n",
            "rural_urbana 237\n",
            "nan ///  nan\n",
            "nan ///  nan\n",
            "nan ///  nan\n",
            "nan ///  nan\n",
            "nan ///  nan\n",
            "nan ///  nan\n",
            "nan ///  nan\n",
            "nan ///  nan\n",
            "nan ///  nan\n",
            "nan ///  nan\n",
            "nan ///  nan\n",
            "nan ///  nan\n",
            "nan ///  nan\n",
            "nan ///  nan\n",
            "nan ///  nan\n",
            "nan ///  nan\n",
            "nan ///  nan\n",
            "nan ///  nan\n",
            "nan ///  nan\n",
            "nan ///  nan\n",
            "nan ///  nan\n",
            "nan ///  nan\n",
            "nan ///  nan\n",
            "nan ///  nan\n",
            "nan ///  nan\n",
            "nan ///  nan\n",
            "nan ///  nan\n",
            "nan ///  nan\n",
            "nan ///  nan\n",
            "nan ///  nan\n",
            "nan ///  nan\n",
            "nan ///  nan\n",
            "nan ///  nan\n",
            "nan ///  nan\n",
            "nan ///  nan\n",
            "nan ///  nan\n",
            "nan ///  nan\n",
            "nan ///  nan\n",
            "nan ///  nan\n",
            "nan ///  nan\n",
            "nan ///  nan\n",
            "nan ///  nan\n",
            "nan ///  nan\n",
            "nan ///  nan\n",
            "nan ///  nan\n",
            "nan ///  nan\n",
            "nan ///  nan\n",
            "nan ///  nan\n",
            "nan ///  nan\n",
            "nan ///  nan\n",
            "nan ///  nan\n",
            "nan ///  nan\n",
            "nan ///  nan\n",
            "nan ///  nan\n",
            "nan ///  nan\n",
            "nan ///  nan\n",
            "nan ///  nan\n",
            "nan ///  nan\n",
            "nan ///  nan\n",
            "nan ///  nan\n",
            "nan ///  nan\n",
            "nan ///  nan\n",
            "nan ///  nan\n",
            "nan ///  nan\n",
            "nan ///  nan\n",
            "nan ///  nan\n",
            "nan ///  nan\n",
            "nan ///  nan\n",
            "nan ///  nan\n",
            "nan ///  nan\n",
            "nan ///  nan\n",
            "nan ///  nan\n",
            "nan ///  nan\n",
            "nan ///  nan\n",
            "nan ///  nan\n",
            "nan ///  nan\n",
            "nan ///  nan\n",
            "nan ///  nan\n",
            "nan ///  nan\n",
            "nan ///  nan\n",
            "nan ///  nan\n",
            "nan ///  nan\n",
            "nan ///  nan\n",
            "nan ///  nan\n",
            "nan ///  nan\n",
            "nan ///  nan\n",
            "nan ///  nan\n",
            "nan ///  nan\n",
            "nan ///  nan\n",
            "nan ///  nan\n",
            "nan ///  nan\n",
            "nan ///  nan\n",
            "nan ///  nan\n",
            "nan ///  nan\n",
            "nan ///  nan\n",
            "nan ///  nan\n",
            "nan ///  nan\n",
            "nan ///  nan\n",
            "nan ///  nan\n",
            "nan ///  nan\n",
            "nan ///  nan\n",
            "nan ///  nan\n",
            "nan ///  nan\n",
            "nan ///  nan\n",
            "nan ///  nan\n",
            "nan ///  nan\n",
            "nan ///  nan\n",
            "nan ///  nan\n",
            "nan ///  nan\n",
            "nan ///  nan\n",
            "nan ///  nan\n",
            "nan ///  nan\n",
            "nan ///  nan\n",
            "nan ///  nan\n",
            "nan ///  nan\n",
            "nan ///  nan\n",
            "nan ///  nan\n",
            "nan ///  nan\n",
            "nan ///  nan\n",
            "nan ///  nan\n",
            "nan ///  nan\n",
            "nan ///  nan\n",
            "nan ///  nan\n",
            "nan ///  nan\n",
            "nan ///  nan\n",
            "nan ///  nan\n",
            "nan ///  nan\n",
            "nan ///  nan\n",
            "nan ///  nan\n",
            "nan ///  nan\n",
            "nan ///  nan\n",
            "nan ///  nan\n",
            "nan ///  nan\n",
            "nan ///  nan\n",
            "nan ///  nan\n",
            "nan ///  nan\n",
            "nan ///  nan\n",
            "nan ///  nan\n",
            "nan ///  nan\n",
            "nan ///  nan\n",
            "nan ///  nan\n",
            "nan ///  nan\n",
            "nan ///  nan\n",
            "nan ///  nan\n",
            "nan ///  nan\n",
            "nan ///  nan\n",
            "nan ///  nan\n",
            "nan ///  nan\n",
            "nan ///  nan\n",
            "nan ///  nan\n",
            "nan ///  nan\n",
            "nan ///  nan\n",
            "nan ///  nan\n",
            "nan ///  nan\n",
            "nan ///  nan\n",
            "nan ///  nan\n",
            "nan ///  nan\n",
            "nan ///  nan\n",
            "nan ///  nan\n",
            "nan ///  nan\n",
            "nan ///  nan\n",
            "nan ///  nan\n",
            "nan ///  nan\n",
            "nan ///  nan\n",
            "nan ///  nan\n",
            "nan ///  nan\n",
            "nan ///  nan\n",
            "nan ///  nan\n",
            "nan ///  nan\n",
            "nan ///  nan\n",
            "nan ///  nan\n",
            "nan ///  nan\n",
            "nan ///  nan\n",
            "nan ///  nan\n",
            "nan ///  nan\n",
            "nan ///  nan\n",
            "nan ///  nan\n",
            "nan ///  nan\n",
            "nan ///  nan\n",
            "nan ///  nan\n",
            "nan ///  nan\n",
            "nan ///  nan\n",
            "nan ///  nan\n",
            "nan ///  nan\n",
            "nan ///  nan\n",
            "nan ///  nan\n",
            "nan ///  nan\n",
            "nan ///  nan\n",
            "nan ///  nan\n",
            "nan ///  nan\n",
            "nan ///  nan\n",
            "nan ///  nan\n",
            "nan ///  nan\n",
            "nan ///  nan\n",
            "nan ///  nan\n",
            "nan ///  nan\n",
            "nan ///  nan\n",
            "nan ///  nan\n",
            "nan ///  nan\n",
            "nan ///  nan\n",
            "nan ///  nan\n",
            "nan ///  nan\n",
            "nan ///  nan\n",
            "nan ///  nan\n",
            "nan ///  nan\n",
            "nan ///  nan\n",
            "nan ///  nan\n",
            "nan ///  nan\n",
            "nan ///  nan\n",
            "nan ///  nan\n",
            "nan ///  nan\n",
            "nan ///  nan\n",
            "nan ///  nan\n",
            "nan ///  nan\n",
            "nan ///  nan\n",
            "nan ///  nan\n",
            "nan ///  nan\n",
            "nan ///  nan\n",
            "nan ///  nan\n",
            "nan ///  nan\n",
            "nan ///  nan\n",
            "nan ///  nan\n",
            "nan ///  nan\n",
            "nan ///  nan\n",
            "nan ///  nan\n",
            "nan ///  nan\n",
            "nan ///  nan\n",
            "nan ///  nan\n",
            "nan ///  nan\n",
            "nan ///  nan\n",
            "nan ///  nan\n",
            "nan ///  nan\n",
            "nan ///  nan\n",
            "nan ///  nan\n",
            "nan ///  nan\n",
            "nan ///  nan\n",
            "denuncia_linea 2\n",
            "HOMICIDIO INTENCIONAL O CON DOLO ///  FEMINICIDIO\n",
            "caracterizacion_delito 237\n",
            "ley 238\n",
            "nan ///  nan\n",
            "nan ///  nan\n",
            "nan ///  nan\n",
            "nan ///  nan\n",
            "nan ///  nan\n",
            "nan ///  nan\n",
            "nan ///  nan\n",
            "nan ///  nan\n",
            "nan ///  nan\n",
            "nan ///  nan\n",
            "nan ///  nan\n",
            "nan ///  nan\n",
            "nan ///  nan\n",
            "nan ///  nan\n",
            "nan ///  nan\n",
            "nan ///  nan\n",
            "nan ///  nan\n",
            "nan ///  nan\n",
            "nan ///  nan\n",
            "nan ///  nan\n",
            "nan ///  nan\n",
            "nan ///  nan\n",
            "nan ///  nan\n",
            "nan ///  nan\n",
            "nan ///  nan\n",
            "nan ///  nan\n",
            "nan ///  nan\n",
            "nan ///  nan\n",
            "nan ///  nan\n",
            "nan ///  nan\n",
            "nan ///  nan\n",
            "COMUNA CENTRO ///  COMUNA SAN JOAQUIN\n",
            "nan ///  nan\n",
            "nan ///  nan\n",
            "nan ///  nan\n",
            "nan ///  nan\n",
            "nan ///  nan\n",
            "nan ///  nan\n",
            "nan ///  nan\n",
            "nan ///  nan\n",
            "nan ///  nan\n",
            "nan ///  nan\n",
            "nan ///  nan\n",
            "nan ///  nan\n",
            "nan ///  nan\n",
            "nan ///  nan\n",
            "nan ///  nan\n",
            "nan ///  nan\n",
            "nan ///  nan\n",
            "nan ///  nan\n",
            "nan ///  nan\n",
            "nan ///  nan\n",
            "nan ///  nan\n",
            "nan ///  nan\n",
            "COMUNA RIO OTUN ///  nan\n",
            "nan ///  nan\n",
            "nan ///  nan\n",
            "nan ///  nan\n",
            "nan ///  nan\n",
            "nan ///  nan\n",
            "nan ///  nan\n",
            "nan ///  nan\n",
            "nan ///  nan\n",
            "nan ///  nan\n",
            "nan ///  nan\n",
            "nan ///  nan\n",
            "nan ///  nan\n",
            "nan ///  nan\n",
            "nan ///  nan\n",
            "nan ///  nan\n",
            "nan ///  nan\n",
            "nan ///  nan\n",
            "nan ///  nan\n",
            "nan ///  nan\n",
            "nan ///  nan\n",
            "nan ///  nan\n",
            "nan ///  nan\n",
            "nan ///  nan\n",
            "nan ///  nan\n",
            "nan ///  nan\n",
            "nan ///  nan\n",
            "nan ///  nan\n",
            "nan ///  nan\n",
            "nan ///  nan\n",
            "nan ///  nan\n",
            "nan ///  nan\n",
            "nan ///  nan\n",
            "nan ///  nan\n",
            "nan ///  nan\n",
            "nan ///  nan\n",
            "nan ///  nan\n",
            "nan ///  nan\n",
            "nan ///  nan\n",
            "nan ///  nan\n",
            "nan ///  nan\n",
            "nan ///  nan\n",
            "nan ///  nan\n",
            "nan ///  nan\n",
            "nan ///  nan\n",
            "nan ///  nan\n",
            "nan ///  nan\n",
            "nan ///  nan\n",
            "nan ///  nan\n",
            "nan ///  nan\n",
            "nan ///  nan\n",
            "nan ///  nan\n",
            "nan ///  nan\n",
            "nan ///  nan\n",
            "nan ///  nan\n",
            "nan ///  nan\n",
            "nan ///  nan\n",
            "nan ///  nan\n",
            "nan ///  nan\n",
            "nan ///  nan\n",
            "nan ///  nan\n",
            "nan ///  nan\n",
            "nan ///  nan\n",
            "nan ///  nan\n",
            "nan ///  nan\n",
            "nan ///  nan\n",
            "nan ///  nan\n",
            "nan ///  nan\n",
            "nan ///  nan\n",
            "nan ///  nan\n",
            "nan ///  nan\n",
            "nan ///  nan\n",
            "localidad_hechos 112\n",
            "nan ///  nan\n",
            "nan ///  nan\n",
            "nan ///  nan\n",
            "nan ///  nan\n",
            "nan ///  nan\n",
            "nan ///  nan\n",
            "nan ///  nan\n",
            "nan ///  nan\n",
            "nan ///  nan\n",
            "nan ///  nan\n",
            "nan ///  nan\n",
            "nan ///  nan\n",
            "nan ///  nan\n",
            "nan ///  nan\n",
            "nan ///  nan\n",
            "nan ///  nan\n",
            "nan ///  nan\n",
            "nan ///  nan\n",
            "nan ///  nan\n",
            "nan ///  nan\n",
            "nan ///  nan\n",
            "nan ///  nan\n",
            "nan ///  nan\n",
            "nan ///  nan\n",
            "nan ///  nan\n",
            "nan ///  nan\n",
            "nan ///  nan\n",
            "nan ///  nan\n",
            "nan ///  nan\n",
            "nan ///  nan\n",
            "nan ///  nan\n",
            "nan ///  nan\n",
            "nan ///  ATENAS\n",
            "nan ///  nan\n",
            "nan ///  nan\n",
            "nan ///  nan\n",
            "nan ///  nan\n",
            "nan ///  nan\n",
            "nan ///  nan\n",
            "nan ///  nan\n",
            "nan ///  nan\n",
            "nan ///  nan\n",
            "nan ///  nan\n",
            "nan ///  nan\n",
            "nan ///  nan\n",
            "nan ///  nan\n",
            "nan ///  nan\n",
            "nan ///  nan\n",
            "nan ///  nan\n",
            "nan ///  nan\n",
            "nan ///  nan\n",
            "nan ///  nan\n",
            "nan ///  nan\n",
            "nan ///  nan\n",
            "nan ///  nan\n",
            "RISALDA ///  nan\n",
            "nan ///  nan\n",
            "nan ///  nan\n",
            "nan ///  nan\n",
            "nan ///  nan\n",
            "nan ///  nan\n",
            "nan ///  nan\n",
            "nan ///  nan\n",
            "nan ///  nan\n",
            "nan ///  nan\n",
            "nan ///  nan\n",
            "nan ///  nan\n",
            "nan ///  nan\n",
            "nan ///  nan\n",
            "nan ///  nan\n",
            "nan ///  nan\n",
            "nan ///  nan\n",
            "nan ///  nan\n",
            "nan ///  nan\n",
            "nan ///  nan\n",
            "nan ///  nan\n",
            "nan ///  nan\n",
            "nan ///  nan\n",
            "nan ///  nan\n",
            "nan ///  nan\n",
            "nan ///  nan\n",
            "nan ///  nan\n",
            "nan ///  nan\n",
            "nan ///  nan\n",
            "nan ///  nan\n",
            "nan ///  nan\n",
            "nan ///  nan\n",
            "nan ///  nan\n",
            "nan ///  nan\n",
            "nan ///  nan\n",
            "nan ///  nan\n",
            "nan ///  nan\n",
            "nan ///  nan\n",
            "nan ///  nan\n",
            "nan ///  nan\n",
            "nan ///  nan\n",
            "nan ///  nan\n",
            "nan ///  nan\n",
            "nan ///  nan\n",
            "nan ///  nan\n",
            "nan ///  nan\n",
            "nan ///  nan\n",
            "nan ///  nan\n",
            "nan ///  nan\n",
            "nan ///  nan\n",
            "nan ///  nan\n",
            "nan ///  nan\n",
            "nan ///  nan\n",
            "nan ///  nan\n",
            "nan ///  nan\n",
            "nan ///  nan\n",
            "nan ///  nan\n",
            "nan ///  nan\n",
            "nan ///  nan\n",
            "nan ///  nan\n",
            "nan ///  nan\n",
            "nan ///  nan\n",
            "nan ///  nan\n",
            "nan ///  nan\n",
            "nan ///  nan\n",
            "nan ///  nan\n",
            "nan ///  nan\n",
            "nan ///  nan\n",
            "nan ///  nan\n",
            "nan ///  nan\n",
            "nan ///  nan\n",
            "nan ///  nan\n",
            "nan ///  nan\n",
            "barrio_hechos 110\n",
            "nan ///  nan\n",
            "nan ///  nan\n",
            "nan ///  nan\n",
            "nan ///  nan\n",
            "nan ///  nan\n",
            "nan ///  nan\n",
            "nan ///  nan\n",
            "nan ///  nan\n",
            "nan ///  nan\n",
            "nan ///  nan\n",
            "nan ///  nan\n",
            "nan ///  nan\n",
            "nan ///  nan\n",
            "nan ///  nan\n",
            "nan ///  nan\n",
            "nan ///  nan\n",
            "nan ///  nan\n",
            "nan ///  nan\n",
            "nan ///  nan\n",
            "nan ///  nan\n",
            "nan ///  nan\n",
            "nan ///  nan\n",
            "nan ///  nan\n",
            "nan ///  nan\n",
            "nan ///  nan\n",
            "nan ///  nan\n",
            "nan ///  nan\n",
            "nan ///  nan\n",
            "nan ///  nan\n",
            "nan ///  nan\n",
            "nan ///  nan\n",
            "nan ///  nan\n",
            "nan ///  COMUNA SAN JOAQUIN\n",
            "nan ///  nan\n",
            "nan ///  nan\n",
            "nan ///  nan\n",
            "nan ///  nan\n",
            "nan ///  nan\n",
            "nan ///  nan\n",
            "nan ///  nan\n",
            "nan ///  nan\n",
            "nan ///  nan\n",
            "nan ///  nan\n",
            "nan ///  nan\n",
            "nan ///  nan\n",
            "nan ///  nan\n",
            "nan ///  nan\n",
            "nan ///  nan\n",
            "nan ///  nan\n",
            "nan ///  nan\n",
            "nan ///  nan\n",
            "nan ///  nan\n",
            "nan ///  nan\n",
            "nan ///  nan\n",
            "nan ///  nan\n",
            "COMUNA RIO OTUN ///  nan\n",
            "nan ///  nan\n",
            "nan ///  nan\n",
            "nan ///  nan\n",
            "nan ///  nan\n",
            "nan ///  nan\n",
            "nan ///  nan\n",
            "nan ///  nan\n",
            "nan ///  nan\n",
            "nan ///  nan\n",
            "nan ///  nan\n",
            "nan ///  nan\n",
            "nan ///  nan\n",
            "nan ///  nan\n",
            "nan ///  nan\n",
            "nan ///  nan\n",
            "nan ///  nan\n",
            "nan ///  nan\n",
            "nan ///  nan\n",
            "nan ///  nan\n",
            "nan ///  nan\n",
            "nan ///  nan\n",
            "nan ///  nan\n",
            "nan ///  nan\n",
            "nan ///  nan\n",
            "nan ///  nan\n",
            "nan ///  nan\n",
            "nan ///  nan\n",
            "nan ///  nan\n",
            "nan ///  nan\n",
            "nan ///  nan\n",
            "nan ///  nan\n",
            "nan ///  nan\n",
            "nan ///  nan\n",
            "nan ///  nan\n",
            "nan ///  nan\n",
            "nan ///  nan\n",
            "nan ///  nan\n",
            "nan ///  nan\n",
            "nan ///  nan\n",
            "nan ///  nan\n",
            "nan ///  nan\n",
            "nan ///  nan\n",
            "nan ///  nan\n",
            "nan ///  nan\n",
            "nan ///  nan\n",
            "nan ///  nan\n",
            "nan ///  nan\n",
            "nan ///  nan\n",
            "nan ///  nan\n",
            "nan ///  nan\n",
            "nan ///  nan\n",
            "nan ///  nan\n",
            "nan ///  nan\n",
            "nan ///  nan\n",
            "nan ///  nan\n",
            "nan ///  nan\n",
            "nan ///  nan\n",
            "nan ///  nan\n",
            "nan ///  nan\n",
            "nan ///  nan\n",
            "nan ///  nan\n",
            "nan ///  nan\n",
            "nan ///  nan\n",
            "nan ///  nan\n",
            "nan ///  nan\n",
            "nan ///  nan\n",
            "nan ///  nan\n",
            "nan ///  nan\n",
            "nan ///  nan\n",
            "nan ///  nan\n",
            "nan ///  nan\n",
            "nan ///  nan\n",
            "zona_hechos 110\n",
            "66001 PERLA DEL OTUN Y CIA. LTDA. ///  66001 CARRERA 31 80A 2\n",
            "66088 CARRERA 9 6 98 ///  66088 CARRERA 9 6 96\n",
            "66001 CARRERA 5 30 26 ///  66170 CARRERA 1 17A 14\n",
            "66170 CARRERA 11 60 1 ///  66170 CARRERA 11 60 99\n",
            "66170 CARRERA 2 32 172 ///  66170 CALLE 34 2 1\n",
            "direccion_hechos 233\n",
            "titulo 238\n",
            "capitulo 238\n",
            "NINGUNO ///  AGRAVADO\n",
            "NINGUNO ///  AGRAVADO\n",
            "grado_delito 236\n",
            "hora_hecho 238\n",
            "region 238\n",
            "fecha_entrada 0\n",
            "fecha_creacion 0\n",
            "NO ///  SI\n",
            "NO ///  SI\n",
            "NO ///  SI\n",
            "NO ///  SI\n",
            "NO ///  SI\n",
            "NO ///  SI\n",
            "NO ///  SI\n",
            "NO ///  SI\n",
            "NO ///  SI\n",
            "NO ///  SI\n",
            "NO ///  SI\n",
            "NO ///  SI\n",
            "NO ///  SI\n",
            "NO ///  SI\n",
            "NO ///  SI\n",
            "NO ///  SI\n",
            "NO ///  SI\n",
            "NO ///  SI\n",
            "NO ///  SI\n",
            "NO ///  SI\n",
            "NO ///  SI\n",
            "NO ///  SI\n",
            "NO ///  SI\n",
            "NO ///  SI\n",
            "NO ///  SI\n",
            "NO ///  SI\n",
            "NO ///  SI\n",
            "NO ///  SI\n",
            "NO ///  SI\n",
            "NO ///  SI\n",
            "NO ///  SI\n",
            "NO ///  SI\n",
            "NO ///  SI\n",
            "NO ///  SI\n",
            "NO ///  SI\n",
            "NO ///  SI\n",
            "NO ///  SI\n",
            "NO ///  SI\n",
            "NO ///  SI\n",
            "NO ///  SI\n",
            "NO ///  SI\n",
            "NO ///  SI\n",
            "NO ///  SI\n",
            "NO ///  SI\n",
            "NO ///  SI\n",
            "NO ///  SI\n",
            "NO ///  SI\n",
            "NO ///  SI\n",
            "NO ///  SI\n",
            "NO ///  SI\n",
            "NO ///  SI\n",
            "NO ///  SI\n",
            "NO ///  SI\n",
            "NO ///  SI\n",
            "NO ///  SI\n",
            "NO ///  SI\n",
            "NO ///  SI\n",
            "NO ///  SI\n",
            "NO ///  SI\n",
            "NO ///  SI\n",
            "NO ///  SI\n",
            "NO ///  SI\n",
            "NO ///  SI\n",
            "NO ///  SI\n",
            "NO ///  SI\n",
            "NO ///  SI\n",
            "NO ///  SI\n",
            "NO ///  SI\n",
            "NO ///  SI\n",
            "NO ///  SI\n",
            "NO ///  SI\n",
            "NO ///  SI\n",
            "NO ///  SI\n",
            "NO ///  SI\n",
            "NO ///  SI\n",
            "NO ///  SI\n",
            "NO ///  SI\n",
            "NO ///  SI\n",
            "NO ///  SI\n",
            "NO ///  SI\n",
            "NO ///  SI\n",
            "NO ///  SI\n",
            "NO ///  SI\n",
            "NO ///  SI\n",
            "NO ///  SI\n",
            "NO ///  SI\n",
            "NO ///  SI\n",
            "NO ///  SI\n",
            "NO ///  SI\n",
            "NO ///  SI\n",
            "NO ///  SI\n",
            "NO ///  SI\n",
            "NO ///  SI\n",
            "NO ///  SI\n",
            "NO ///  SI\n",
            "NO ///  SI\n",
            "NO ///  SI\n",
            "NO ///  SI\n",
            "NO ///  SI\n",
            "NO ///  SI\n",
            "NO ///  SI\n",
            "NO ///  SI\n",
            "NO ///  SI\n",
            "NO ///  SI\n",
            "NO ///  SI\n",
            "NO ///  SI\n",
            "NO ///  SI\n",
            "NO ///  SI\n",
            "NO ///  SI\n",
            "NO ///  SI\n",
            "NO ///  SI\n",
            "NO ///  SI\n",
            "NO ///  SI\n",
            "NO ///  SI\n",
            "NO ///  SI\n",
            "NO ///  SI\n",
            "NO ///  SI\n",
            "NO ///  SI\n",
            "NO ///  SI\n",
            "NO ///  SI\n",
            "NO ///  SI\n",
            "NO ///  SI\n",
            "NO ///  SI\n",
            "NO ///  SI\n",
            "NO ///  SI\n",
            "NO ///  SI\n",
            "NO ///  SI\n",
            "NO ///  SI\n",
            "NO ///  SI\n",
            "NO ///  SI\n",
            "NO ///  SI\n",
            "NO ///  SI\n",
            "NO ///  SI\n",
            "NO ///  SI\n",
            "NO ///  SI\n",
            "NO ///  SI\n",
            "NO ///  SI\n",
            "NO ///  SI\n",
            "NO ///  SI\n",
            "NO ///  SI\n",
            "NO ///  SI\n",
            "NO ///  SI\n",
            "NO ///  SI\n",
            "NO ///  SI\n",
            "NO ///  SI\n",
            "NO ///  SI\n",
            "NO ///  SI\n",
            "NO ///  SI\n",
            "NO ///  SI\n",
            "NO ///  SI\n",
            "NO ///  SI\n",
            "NO ///  SI\n",
            "NO ///  SI\n",
            "NO ///  SI\n",
            "NO ///  SI\n",
            "NO ///  SI\n",
            "NO ///  SI\n",
            "NO ///  SI\n",
            "NO ///  SI\n",
            "NO ///  SI\n",
            "NO ///  SI\n",
            "NO ///  SI\n",
            "NO ///  SI\n",
            "NO ///  SI\n",
            "NO ///  SI\n",
            "NO ///  SI\n",
            "NO ///  SI\n",
            "NO ///  SI\n",
            "NO ///  SI\n",
            "NO ///  SI\n",
            "NO ///  SI\n",
            "NO ///  SI\n",
            "NO ///  SI\n",
            "NO ///  SI\n",
            "NO ///  SI\n",
            "NO ///  SI\n",
            "NO ///  SI\n",
            "NO ///  SI\n",
            "NO ///  SI\n",
            "NO ///  SI\n",
            "NO ///  SI\n",
            "NO ///  SI\n",
            "NO ///  SI\n",
            "NO ///  SI\n",
            "NO ///  SI\n",
            "año_corrido 53\n",
            "año_hecho 238\n"
          ]
        }
      ]
    }
  ]
}